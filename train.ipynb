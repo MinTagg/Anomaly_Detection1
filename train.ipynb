{
 "cells": [
  {
   "cell_type": "code",
   "execution_count": 4,
   "metadata": {},
   "outputs": [],
   "source": [
    "import tensorflow as tf\n",
    "import numpy as np\n",
    "import flow_pipeline_whole as fp\n",
    "import new_model_whole as nm\n",
    "import train_argument as arg\n",
    "import time\n",
    "import tqdm\n"
   ]
  },
  {
   "attachments": {},
   "cell_type": "markdown",
   "metadata": {},
   "source": [
    "데이터셋 불러오기"
   ]
  },
  {
   "cell_type": "code",
   "execution_count": 2,
   "metadata": {},
   "outputs": [],
   "source": [
    "def changer(tensor):\n",
    "    temp = tensor.numpy()\n",
    "\n",
    "    for i in range(len(temp)):\n",
    "        if temp[i][0] > temp[i][1]:\n",
    "            if i == 0:\n",
    "                concated = np.array([[1.,0.]])\n",
    "            else:\n",
    "                concated = np.concatenate((concated, np.array([[1.,0.]])), axis = 0)\n",
    "        else:\n",
    "            if i == 0:\n",
    "                concated = np.array([[0.,1.]])\n",
    "            else:\n",
    "                concated = np.concatenate((concated, np.array([[0.,1.]])), axis=  0)\n",
    "    return tf.convert_to_tensor(concated)"
   ]
  },
  {
   "attachments": {},
   "cell_type": "markdown",
   "metadata": {},
   "source": [
    "Middle Frame Prediction 학습 모델 불러오기"
   ]
  },
  {
   "cell_type": "code",
   "execution_count": 6,
   "metadata": {},
   "outputs": [],
   "source": [
    "model = nm.model()\n",
    "\n",
    "aot_loss = tf.keras.losses.BinaryCrossentropy()\n",
    "moi_loss = tf.keras.losses.BinaryCrossentropy()\n",
    "mp_loss = tf.keras.losses.MeanAbsoluteError()\n",
    "\n",
    "optimizer = tf.keras.optimizers.Adam()\n",
    "aot_metrics = tf.keras.metrics.Accuracy()\n",
    "moi_metrics = tf.keras.metrics.Accuracy()\n",
    "mp_metrics = tf.keras.metrics.Accuracy()\n",
    "\n",
    "callbacks = tf.keras.callbacks.CallbackList(\n",
    "    [\n",
    "        tf.keras.callbacks.ModelCheckpoint(filepath = f'result/23_01_18_.h5',\n",
    "                                        monitor = 'loss',\n",
    "                                        verbose = 1,\n",
    "                                        save_best_only = True,\n",
    "                                        mode = 'min',\n",
    "                                        save_weights_only = False,\n",
    "                                        )\n",
    "            \n",
    "        \n",
    "    ]\n",
    "    , add_history=True, model = model)"
   ]
  },
  {
   "cell_type": "code",
   "execution_count": 52,
   "metadata": {},
   "outputs": [
    {
     "name": "stdout",
     "output_type": "stream",
     "text": [
      "Start 0 epoch\n"
     ]
    },
    {
     "name": "stderr",
     "output_type": "stream",
     "text": [
      "100%|██████████| 100/100 [02:45<00:00,  1.66s/it]\n"
     ]
    },
    {
     "name": "stdout",
     "output_type": "stream",
     "text": [
      "AOT LOSS :: 0.7027706503868103\tAOT  ACC :: 0.49666666984558105\n",
      "MOI LOSS :: 0.6964451670646667\tMOI  ACC :: 0.4933333396911621\n",
      "MP  LOSS :: 1.321539044380188\tMP   ACC :: 0.003765604691579938\n",
      "LOSS     :: 1.321539044380188\n",
      "Start 1 epoch\n"
     ]
    },
    {
     "name": "stderr",
     "output_type": "stream",
     "text": [
      "100%|██████████| 100/100 [02:54<00:00,  1.74s/it]\n"
     ]
    },
    {
     "name": "stdout",
     "output_type": "stream",
     "text": [
      "AOT LOSS :: 0.7027706503868103\tAOT  ACC :: 0.5066666603088379\n",
      "MOI LOSS :: 0.6964451670646667\tMOI  ACC :: 0.476666659116745\n",
      "MP  LOSS :: 1.8493825197219849\tMP   ACC :: 0.003774800570681691\n",
      "LOSS     :: 1.8493825197219849\n",
      "Start 2 epoch\n"
     ]
    },
    {
     "name": "stderr",
     "output_type": "stream",
     "text": [
      "100%|██████████| 100/100 [02:52<00:00,  1.72s/it]\n"
     ]
    },
    {
     "name": "stdout",
     "output_type": "stream",
     "text": [
      "AOT LOSS :: 0.7027706503868103\tAOT  ACC :: 0.44999998807907104\n",
      "MOI LOSS :: 0.6964451670646667\tMOI  ACC :: 0.503333330154419\n",
      "MP  LOSS :: 2.6520330905914307\tMP   ACC :: 0.0026874186005443335\n",
      "LOSS     :: 2.6520330905914307\n",
      "Start 3 epoch\n"
     ]
    },
    {
     "name": "stderr",
     "output_type": "stream",
     "text": [
      "100%|██████████| 100/100 [02:52<00:00,  1.73s/it]\n"
     ]
    },
    {
     "name": "stdout",
     "output_type": "stream",
     "text": [
      "AOT LOSS :: 0.7027706503868103\tAOT  ACC :: 0.5\n",
      "MOI LOSS :: 0.6964451670646667\tMOI  ACC :: 0.5\n",
      "MP  LOSS :: 13.38880443572998\tMP   ACC :: 4.1554769268259406e-05\n",
      "LOSS     :: 13.38880443572998\n",
      "Start 4 epoch\n"
     ]
    },
    {
     "name": "stderr",
     "output_type": "stream",
     "text": [
      "100%|██████████| 100/100 [02:43<00:00,  1.63s/it]\n"
     ]
    },
    {
     "name": "stdout",
     "output_type": "stream",
     "text": [
      "AOT LOSS :: 0.7027706503868103\tAOT  ACC :: 0.46666666865348816\n",
      "MOI LOSS :: 0.6964451670646667\tMOI  ACC :: 0.5066666603088379\n",
      "MP  LOSS :: 1.3575102090835571\tMP   ACC :: 3.08939597744029e-05\n",
      "LOSS     :: 1.3575102090835571\n",
      "Start 5 epoch\n"
     ]
    },
    {
     "name": "stderr",
     "output_type": "stream",
     "text": [
      "100%|██████████| 100/100 [02:40<00:00,  1.61s/it]\n"
     ]
    },
    {
     "name": "stdout",
     "output_type": "stream",
     "text": [
      "AOT LOSS :: 0.7027706503868103\tAOT  ACC :: 0.46000000834465027\n",
      "MOI LOSS :: 0.6964451670646667\tMOI  ACC :: 0.5333333611488342\n",
      "MP  LOSS :: 1.068813681602478\tMP   ACC :: 2.2725424059899524e-05\n",
      "LOSS     :: 1.068813681602478\n",
      "Start 6 epoch\n"
     ]
    },
    {
     "name": "stderr",
     "output_type": "stream",
     "text": [
      "100%|██████████| 100/100 [02:47<00:00,  1.68s/it]\n"
     ]
    },
    {
     "name": "stdout",
     "output_type": "stream",
     "text": [
      "AOT LOSS :: 0.7027706503868103\tAOT  ACC :: 0.5433333516120911\n",
      "MOI LOSS :: 0.6964451670646667\tMOI  ACC :: 0.4866666793823242\n",
      "MP  LOSS :: 0.39353689551353455\tMP   ACC :: 1.8208822439191863e-05\n",
      "LOSS     :: 0.39353689551353455\n",
      "Start 7 epoch\n"
     ]
    },
    {
     "name": "stderr",
     "output_type": "stream",
     "text": [
      "100%|██████████| 100/100 [02:48<00:00,  1.68s/it]\n"
     ]
    },
    {
     "name": "stdout",
     "output_type": "stream",
     "text": [
      "AOT LOSS :: 0.7027706503868103\tAOT  ACC :: 0.4933333396911621\n",
      "MOI LOSS :: 0.6964451670646667\tMOI  ACC :: 0.49000000953674316\n",
      "MP  LOSS :: 0.9726560711860657\tMP   ACC :: 1.754760705807712e-05\n",
      "LOSS     :: 0.9726560711860657\n",
      "Start 8 epoch\n"
     ]
    },
    {
     "name": "stderr",
     "output_type": "stream",
     "text": [
      "100%|██████████| 100/100 [02:42<00:00,  1.63s/it]\n"
     ]
    },
    {
     "name": "stdout",
     "output_type": "stream",
     "text": [
      "AOT LOSS :: 0.7027706503868103\tAOT  ACC :: 0.5299999713897705\n",
      "MOI LOSS :: 0.6964451670646667\tMOI  ACC :: 0.5233333110809326\n",
      "MP  LOSS :: 1.0041292905807495\tMP   ACC :: 2.001953180297278e-05\n",
      "LOSS     :: 1.0041292905807495\n",
      "Start 9 epoch\n"
     ]
    },
    {
     "name": "stderr",
     "output_type": "stream",
     "text": [
      "100%|██████████| 100/100 [02:52<00:00,  1.72s/it]\n"
     ]
    },
    {
     "name": "stdout",
     "output_type": "stream",
     "text": [
      "AOT LOSS :: 0.7027706503868103\tAOT  ACC :: 0.4699999988079071\n",
      "MOI LOSS :: 0.6964451670646667\tMOI  ACC :: 0.47999998927116394\n",
      "MP  LOSS :: 1.1153416633605957\tMP   ACC :: 1.3539632163883653e-05\n",
      "LOSS     :: 1.1153416633605957\n",
      "Start 10 epoch\n"
     ]
    },
    {
     "name": "stderr",
     "output_type": "stream",
     "text": [
      "100%|██████████| 100/100 [02:45<00:00,  1.66s/it]\n"
     ]
    },
    {
     "name": "stdout",
     "output_type": "stream",
     "text": [
      "AOT LOSS :: 0.7027706503868103\tAOT  ACC :: 0.5066666603088379\n",
      "MOI LOSS :: 0.6964451670646667\tMOI  ACC :: 0.4933333396911621\n",
      "MP  LOSS :: 1.526976227760315\tMP   ACC :: 3.5247801861260086e-05\n",
      "LOSS     :: 1.526976227760315\n",
      "Start 11 epoch\n"
     ]
    },
    {
     "name": "stderr",
     "output_type": "stream",
     "text": [
      "100%|██████████| 100/100 [02:44<00:00,  1.65s/it]\n"
     ]
    },
    {
     "name": "stdout",
     "output_type": "stream",
     "text": [
      "AOT LOSS :: 0.7027706503868103\tAOT  ACC :: 0.5\n",
      "MOI LOSS :: 0.6964451670646667\tMOI  ACC :: 0.5233333110809326\n",
      "MP  LOSS :: 1.9268807172775269\tMP   ACC :: 4.3741861190937925e-06\n",
      "LOSS     :: 1.9268807172775269\n",
      "Start 12 epoch\n"
     ]
    },
    {
     "name": "stderr",
     "output_type": "stream",
     "text": [
      "100%|██████████| 100/100 [02:41<00:00,  1.62s/it]\n"
     ]
    },
    {
     "name": "stdout",
     "output_type": "stream",
     "text": [
      "AOT LOSS :: 0.7027706503868103\tAOT  ACC :: 0.5400000214576721\n",
      "MOI LOSS :: 0.6964451670646667\tMOI  ACC :: 0.54666668176651\n",
      "MP  LOSS :: 0.871208667755127\tMP   ACC :: 3.112792910542339e-06\n",
      "LOSS     :: 0.871208667755127\n",
      "Start 13 epoch\n"
     ]
    },
    {
     "name": "stderr",
     "output_type": "stream",
     "text": [
      "100%|██████████| 100/100 [02:58<00:00,  1.79s/it]\n"
     ]
    },
    {
     "name": "stdout",
     "output_type": "stream",
     "text": [
      "AOT LOSS :: 0.7027706503868103\tAOT  ACC :: 0.5400000214576721\n",
      "MOI LOSS :: 0.6964451670646667\tMOI  ACC :: 0.5\n",
      "MP  LOSS :: 0.9433150291442871\tMP   ACC :: 2.3061116735334508e-05\n",
      "LOSS     :: 0.9433150291442871\n",
      "Start 14 epoch\n"
     ]
    },
    {
     "name": "stderr",
     "output_type": "stream",
     "text": [
      "100%|██████████| 100/100 [02:46<00:00,  1.66s/it]\n"
     ]
    },
    {
     "name": "stdout",
     "output_type": "stream",
     "text": [
      "AOT LOSS :: 0.7027706503868103\tAOT  ACC :: 0.47333332896232605\n",
      "MOI LOSS :: 0.6964451670646667\tMOI  ACC :: 0.4699999988079071\n",
      "MP  LOSS :: 1.9436073303222656\tMP   ACC :: 3.509521548039629e-06\n",
      "LOSS     :: 1.9436073303222656\n",
      "Start 15 epoch\n"
     ]
    },
    {
     "name": "stderr",
     "output_type": "stream",
     "text": [
      "100%|██████████| 100/100 [02:54<00:00,  1.74s/it]\n"
     ]
    },
    {
     "name": "stdout",
     "output_type": "stream",
     "text": [
      "AOT LOSS :: 0.7027706503868103\tAOT  ACC :: 0.5166666507720947\n",
      "MOI LOSS :: 0.6964451670646667\tMOI  ACC :: 0.5\n",
      "MP  LOSS :: 1.0647523403167725\tMP   ACC :: 6.713867151120212e-06\n",
      "LOSS     :: 1.0647523403167725\n",
      "Start 16 epoch\n"
     ]
    },
    {
     "name": "stderr",
     "output_type": "stream",
     "text": [
      "100%|██████████| 100/100 [02:48<00:00,  1.69s/it]\n"
     ]
    },
    {
     "name": "stdout",
     "output_type": "stream",
     "text": [
      "AOT LOSS :: 0.7027706503868103\tAOT  ACC :: 0.5\n",
      "MOI LOSS :: 0.6964451670646667\tMOI  ACC :: 0.5766666531562805\n",
      "MP  LOSS :: 0.5777086615562439\tMP   ACC :: 3.965250652981922e-05\n",
      "LOSS     :: 0.5777086615562439\n",
      "Start 17 epoch\n"
     ]
    },
    {
     "name": "stderr",
     "output_type": "stream",
     "text": [
      "100%|██████████| 100/100 [02:42<00:00,  1.62s/it]\n"
     ]
    },
    {
     "name": "stdout",
     "output_type": "stream",
     "text": [
      "AOT LOSS :: 0.7027706503868103\tAOT  ACC :: 0.4566666781902313\n",
      "MOI LOSS :: 0.6964451670646667\tMOI  ACC :: 0.4933333396911621\n",
      "MP  LOSS :: 0.8100531697273254\tMP   ACC :: 3.509521548039629e-06\n",
      "LOSS     :: 0.8100531697273254\n",
      "Start 18 epoch\n"
     ]
    },
    {
     "name": "stderr",
     "output_type": "stream",
     "text": [
      "100%|██████████| 100/100 [02:41<00:00,  1.61s/it]\n"
     ]
    },
    {
     "name": "stdout",
     "output_type": "stream",
     "text": [
      "AOT LOSS :: 0.7027706503868103\tAOT  ACC :: 0.4833333194255829\n",
      "MOI LOSS :: 0.6964451670646667\tMOI  ACC :: 0.5\n",
      "MP  LOSS :: 0.7418931126594543\tMP   ACC :: 5.124918607180007e-05\n",
      "LOSS     :: 0.7418931126594543\n",
      "Start 19 epoch\n"
     ]
    },
    {
     "name": "stderr",
     "output_type": "stream",
     "text": [
      "100%|██████████| 100/100 [02:58<00:00,  1.79s/it]\n"
     ]
    },
    {
     "name": "stdout",
     "output_type": "stream",
     "text": [
      "AOT LOSS :: 0.7027706503868103\tAOT  ACC :: 0.47333332896232605\n",
      "MOI LOSS :: 0.6964451670646667\tMOI  ACC :: 0.5266666412353516\n",
      "MP  LOSS :: 1.1092153787612915\tMP   ACC :: 2.2603353500016965e-05\n",
      "LOSS     :: 1.1092153787612915\n",
      "Start 20 epoch\n"
     ]
    },
    {
     "name": "stderr",
     "output_type": "stream",
     "text": [
      "100%|██████████| 100/100 [02:52<00:00,  1.73s/it]\n"
     ]
    },
    {
     "name": "stdout",
     "output_type": "stream",
     "text": [
      "AOT LOSS :: 0.7027706503868103\tAOT  ACC :: 0.4866666793823242\n",
      "MOI LOSS :: 0.6964451670646667\tMOI  ACC :: 0.49666666984558105\n",
      "MP  LOSS :: 1.3722072839736938\tMP   ACC :: 5.919392788200639e-05\n",
      "LOSS     :: 1.3722072839736938\n",
      "Start 21 epoch\n"
     ]
    },
    {
     "name": "stderr",
     "output_type": "stream",
     "text": [
      "100%|██████████| 100/100 [02:46<00:00,  1.66s/it]\n"
     ]
    },
    {
     "name": "stdout",
     "output_type": "stream",
     "text": [
      "AOT LOSS :: 0.7027706503868103\tAOT  ACC :: 0.5199999809265137\n",
      "MOI LOSS :: 0.6964451670646667\tMOI  ACC :: 0.44333332777023315\n",
      "MP  LOSS :: 1.2020596265792847\tMP   ACC :: 6.215413577592699e-06\n",
      "LOSS     :: 1.2020596265792847\n",
      "Start 22 epoch\n"
     ]
    },
    {
     "name": "stderr",
     "output_type": "stream",
     "text": [
      "100%|██████████| 100/100 [02:38<00:00,  1.59s/it]\n"
     ]
    },
    {
     "name": "stdout",
     "output_type": "stream",
     "text": [
      "AOT LOSS :: 0.7027706503868103\tAOT  ACC :: 0.4866666793823242\n",
      "MOI LOSS :: 0.6964451670646667\tMOI  ACC :: 0.5366666913032532\n",
      "MP  LOSS :: 1.0781580209732056\tMP   ACC :: 8.977254037745297e-05\n",
      "LOSS     :: 1.0781580209732056\n",
      "Start 23 epoch\n"
     ]
    },
    {
     "name": "stderr",
     "output_type": "stream",
     "text": [
      "100%|██████████| 100/100 [02:47<00:00,  1.67s/it]\n"
     ]
    },
    {
     "name": "stdout",
     "output_type": "stream",
     "text": [
      "AOT LOSS :: 0.7027706503868103\tAOT  ACC :: 0.5133333206176758\n",
      "MOI LOSS :: 0.6964451670646667\tMOI  ACC :: 0.5299999713897705\n",
      "MP  LOSS :: 2.0051276683807373\tMP   ACC :: 6.826782191637903e-05\n",
      "LOSS     :: 2.0051276683807373\n",
      "Start 24 epoch\n"
     ]
    },
    {
     "name": "stderr",
     "output_type": "stream",
     "text": [
      "100%|██████████| 100/100 [02:42<00:00,  1.63s/it]\n"
     ]
    },
    {
     "name": "stdout",
     "output_type": "stream",
     "text": [
      "AOT LOSS :: 0.7027706503868103\tAOT  ACC :: 0.5133333206176758\n",
      "MOI LOSS :: 0.6964451670646667\tMOI  ACC :: 0.476666659116745\n",
      "MP  LOSS :: 0.7052801251411438\tMP   ACC :: 7.878621545387432e-05\n",
      "LOSS     :: 0.7052801251411438\n",
      "Start 25 epoch\n"
     ]
    },
    {
     "name": "stderr",
     "output_type": "stream",
     "text": [
      "100%|██████████| 100/100 [02:53<00:00,  1.74s/it]\n"
     ]
    },
    {
     "name": "stdout",
     "output_type": "stream",
     "text": [
      "AOT LOSS :: 0.7027706503868103\tAOT  ACC :: 0.4633333384990692\n",
      "MOI LOSS :: 0.6964451670646667\tMOI  ACC :: 0.49000000953674316\n",
      "MP  LOSS :: 22.036605834960938\tMP   ACC :: 5.08524572069291e-05\n",
      "LOSS     :: 22.036605834960938\n",
      "Start 26 epoch\n"
     ]
    },
    {
     "name": "stderr",
     "output_type": "stream",
     "text": [
      "100%|██████████| 100/100 [02:42<00:00,  1.63s/it]\n"
     ]
    },
    {
     "name": "stdout",
     "output_type": "stream",
     "text": [
      "AOT LOSS :: 0.7027706503868103\tAOT  ACC :: 0.4866666793823242\n",
      "MOI LOSS :: 0.6964451670646667\tMOI  ACC :: 0.4466666579246521\n",
      "MP  LOSS :: 2.469998598098755\tMP   ACC :: 0.00011148071644129232\n",
      "LOSS     :: 2.469998598098755\n",
      "Start 27 epoch\n"
     ]
    },
    {
     "name": "stderr",
     "output_type": "stream",
     "text": [
      "100%|██████████| 100/100 [02:51<00:00,  1.71s/it]\n"
     ]
    },
    {
     "name": "stdout",
     "output_type": "stream",
     "text": [
      "AOT LOSS :: 0.7027706503868103\tAOT  ACC :: 0.5166666507720947\n",
      "MOI LOSS :: 0.6964451670646667\tMOI  ACC :: 0.47333332896232605\n",
      "MP  LOSS :: 0.31832802295684814\tMP   ACC :: 1.683553091424983e-05\n",
      "LOSS     :: 0.31832802295684814\n",
      "Start 28 epoch\n"
     ]
    },
    {
     "name": "stderr",
     "output_type": "stream",
     "text": [
      "100%|██████████| 100/100 [02:42<00:00,  1.62s/it]\n"
     ]
    },
    {
     "name": "stdout",
     "output_type": "stream",
     "text": [
      "AOT LOSS :: 0.7027706503868103\tAOT  ACC :: 0.43666666746139526\n",
      "MOI LOSS :: 0.6964451670646667\tMOI  ACC :: 0.49000000953674316\n",
      "MP  LOSS :: 4.876372337341309\tMP   ACC :: 0.00011496988736325875\n",
      "LOSS     :: 4.876372337341309\n",
      "Start 29 epoch\n"
     ]
    },
    {
     "name": "stderr",
     "output_type": "stream",
     "text": [
      "100%|██████████| 100/100 [02:47<00:00,  1.68s/it]\n"
     ]
    },
    {
     "name": "stdout",
     "output_type": "stream",
     "text": [
      "AOT LOSS :: 0.7027706503868103\tAOT  ACC :: 0.44333332777023315\n",
      "MOI LOSS :: 0.6964451670646667\tMOI  ACC :: 0.5066666603088379\n",
      "MP  LOSS :: 18.919677734375\tMP   ACC :: 8.647664071759209e-05\n",
      "LOSS     :: 18.919677734375\n",
      "Start 30 epoch\n"
     ]
    },
    {
     "name": "stderr",
     "output_type": "stream",
     "text": [
      "100%|██████████| 100/100 [02:50<00:00,  1.71s/it]\n"
     ]
    },
    {
     "name": "stdout",
     "output_type": "stream",
     "text": [
      "AOT LOSS :: 0.7027706503868103\tAOT  ACC :: 0.5533333420753479\n",
      "MOI LOSS :: 0.6964451670646667\tMOI  ACC :: 0.47999998927116394\n",
      "MP  LOSS :: 0.8614591956138611\tMP   ACC :: 0.00011124674347229302\n",
      "LOSS     :: 0.8614591956138611\n",
      "Start 31 epoch\n"
     ]
    },
    {
     "name": "stderr",
     "output_type": "stream",
     "text": [
      "100%|██████████| 100/100 [02:46<00:00,  1.67s/it]\n"
     ]
    },
    {
     "name": "stdout",
     "output_type": "stream",
     "text": [
      "AOT LOSS :: 0.7027706503868103\tAOT  ACC :: 0.4866666793823242\n",
      "MOI LOSS :: 0.6964451670646667\tMOI  ACC :: 0.5099999904632568\n",
      "MP  LOSS :: 0.7123019099235535\tMP   ACC :: 7.790120434947312e-05\n",
      "LOSS     :: 0.7123019099235535\n",
      "Start 32 epoch\n"
     ]
    },
    {
     "name": "stderr",
     "output_type": "stream",
     "text": [
      "100%|██████████| 100/100 [03:08<00:00,  1.89s/it]\n"
     ]
    },
    {
     "name": "stdout",
     "output_type": "stream",
     "text": [
      "AOT LOSS :: 0.7027706503868103\tAOT  ACC :: 0.550000011920929\n",
      "MOI LOSS :: 0.6964451670646667\tMOI  ACC :: 0.46000000834465027\n",
      "MP  LOSS :: 0.9556739926338196\tMP   ACC :: 4.869588155997917e-05\n",
      "LOSS     :: 0.9556739926338196\n",
      "Start 33 epoch\n"
     ]
    },
    {
     "name": "stderr",
     "output_type": "stream",
     "text": [
      "100%|██████████| 100/100 [02:39<00:00,  1.59s/it]\n"
     ]
    },
    {
     "name": "stdout",
     "output_type": "stream",
     "text": [
      "AOT LOSS :: 0.7027706503868103\tAOT  ACC :: 0.4633333384990692\n",
      "MOI LOSS :: 0.6964451670646667\tMOI  ACC :: 0.5066666603088379\n",
      "MP  LOSS :: 15.965267181396484\tMP   ACC :: 0.00022214761702343822\n",
      "LOSS     :: 15.965267181396484\n",
      "Start 34 epoch\n"
     ]
    },
    {
     "name": "stderr",
     "output_type": "stream",
     "text": [
      "100%|██████████| 100/100 [02:50<00:00,  1.70s/it]\n"
     ]
    },
    {
     "name": "stdout",
     "output_type": "stream",
     "text": [
      "AOT LOSS :: 0.7027706503868103\tAOT  ACC :: 0.44999998807907104\n",
      "MOI LOSS :: 0.6964451670646667\tMOI  ACC :: 0.47999998927116394\n",
      "MP  LOSS :: 0.7603556513786316\tMP   ACC :: 0.00017065429710783064\n",
      "LOSS     :: 0.7603556513786316\n",
      "Start 35 epoch\n"
     ]
    },
    {
     "name": "stderr",
     "output_type": "stream",
     "text": [
      "100%|██████████| 100/100 [02:50<00:00,  1.70s/it]\n"
     ]
    },
    {
     "name": "stdout",
     "output_type": "stream",
     "text": [
      "AOT LOSS :: 0.7027706503868103\tAOT  ACC :: 0.5299999713897705\n",
      "MOI LOSS :: 0.6964451670646667\tMOI  ACC :: 0.4633333384990692\n",
      "MP  LOSS :: 2.137953042984009\tMP   ACC :: 9.225463873008266e-05\n",
      "LOSS     :: 2.137953042984009\n",
      "Start 36 epoch\n"
     ]
    },
    {
     "name": "stderr",
     "output_type": "stream",
     "text": [
      "100%|██████████| 100/100 [02:45<00:00,  1.65s/it]\n"
     ]
    },
    {
     "name": "stdout",
     "output_type": "stream",
     "text": [
      "AOT LOSS :: 0.7027706503868103\tAOT  ACC :: 0.4699999988079071\n",
      "MOI LOSS :: 0.6964451670646667\tMOI  ACC :: 0.49666666984558105\n",
      "MP  LOSS :: 13.244235038757324\tMP   ACC :: 0.000184204094693996\n",
      "LOSS     :: 13.244235038757324\n",
      "Start 37 epoch\n"
     ]
    },
    {
     "name": "stderr",
     "output_type": "stream",
     "text": [
      "100%|██████████| 100/100 [02:37<00:00,  1.57s/it]\n"
     ]
    },
    {
     "name": "stdout",
     "output_type": "stream",
     "text": [
      "AOT LOSS :: 0.7027706503868103\tAOT  ACC :: 0.5266666412353516\n",
      "MOI LOSS :: 0.6964451670646667\tMOI  ACC :: 0.4833333194255829\n",
      "MP  LOSS :: 0.352076917886734\tMP   ACC :: 0.00017475381901022047\n",
      "LOSS     :: 0.352076917886734\n",
      "Start 38 epoch\n"
     ]
    },
    {
     "name": "stderr",
     "output_type": "stream",
     "text": [
      "100%|██████████| 100/100 [02:50<00:00,  1.70s/it]\n"
     ]
    },
    {
     "name": "stdout",
     "output_type": "stream",
     "text": [
      "AOT LOSS :: 0.7027706503868103\tAOT  ACC :: 0.5233333110809326\n",
      "MOI LOSS :: 0.6964451670646667\tMOI  ACC :: 0.4833333194255829\n",
      "MP  LOSS :: 29.678728103637695\tMP   ACC :: 0.00013469441910274327\n",
      "LOSS     :: 29.678728103637695\n",
      "Start 39 epoch\n"
     ]
    },
    {
     "name": "stderr",
     "output_type": "stream",
     "text": [
      "100%|██████████| 100/100 [02:46<00:00,  1.66s/it]\n"
     ]
    },
    {
     "name": "stdout",
     "output_type": "stream",
     "text": [
      "AOT LOSS :: 0.7027706503868103\tAOT  ACC :: 0.5\n",
      "MOI LOSS :: 0.6964451670646667\tMOI  ACC :: 0.47999998927116394\n",
      "MP  LOSS :: 2.1741669178009033\tMP   ACC :: 9.305826824856922e-05\n",
      "LOSS     :: 2.1741669178009033\n",
      "Start 40 epoch\n"
     ]
    },
    {
     "name": "stderr",
     "output_type": "stream",
     "text": [
      "100%|██████████| 100/100 [02:43<00:00,  1.63s/it]\n"
     ]
    },
    {
     "name": "stdout",
     "output_type": "stream",
     "text": [
      "AOT LOSS :: 0.7027706503868103\tAOT  ACC :: 0.49000000953674316\n",
      "MOI LOSS :: 0.6964451670646667\tMOI  ACC :: 0.47333332896232605\n",
      "MP  LOSS :: 2.2154886722564697\tMP   ACC :: 6.0506183217512444e-05\n",
      "LOSS     :: 2.2154886722564697\n",
      "Start 41 epoch\n"
     ]
    },
    {
     "name": "stderr",
     "output_type": "stream",
     "text": [
      "100%|██████████| 100/100 [02:44<00:00,  1.65s/it]\n"
     ]
    },
    {
     "name": "stdout",
     "output_type": "stream",
     "text": [
      "AOT LOSS :: 0.7027706503868103\tAOT  ACC :: 0.5299999713897705\n",
      "MOI LOSS :: 0.6964451670646667\tMOI  ACC :: 0.47333332896232605\n",
      "MP  LOSS :: 2.0260918140411377\tMP   ACC :: 0.0001998901425395161\n",
      "LOSS     :: 2.0260918140411377\n",
      "Start 42 epoch\n"
     ]
    },
    {
     "name": "stderr",
     "output_type": "stream",
     "text": [
      "100%|██████████| 100/100 [02:57<00:00,  1.77s/it]\n"
     ]
    },
    {
     "name": "stdout",
     "output_type": "stream",
     "text": [
      "AOT LOSS :: 0.7027706503868103\tAOT  ACC :: 0.47999998927116394\n",
      "MOI LOSS :: 0.6964451670646667\tMOI  ACC :: 0.503333330154419\n",
      "MP  LOSS :: 0.9413092732429504\tMP   ACC :: 0.00012621053610928357\n",
      "LOSS     :: 0.9413092732429504\n",
      "Start 43 epoch\n"
     ]
    },
    {
     "name": "stderr",
     "output_type": "stream",
     "text": [
      "100%|██████████| 100/100 [02:53<00:00,  1.73s/it]\n"
     ]
    },
    {
     "name": "stdout",
     "output_type": "stream",
     "text": [
      "AOT LOSS :: 0.7027706503868103\tAOT  ACC :: 0.4000000059604645\n",
      "MOI LOSS :: 0.6964451670646667\tMOI  ACC :: 0.5166666507720947\n",
      "MP  LOSS :: 0.3941226005554199\tMP   ACC :: 4.23380515712779e-05\n",
      "LOSS     :: 0.3941226005554199\n",
      "Start 44 epoch\n"
     ]
    },
    {
     "name": "stderr",
     "output_type": "stream",
     "text": [
      "100%|██████████| 100/100 [02:51<00:00,  1.72s/it]\n"
     ]
    },
    {
     "name": "stdout",
     "output_type": "stream",
     "text": [
      "AOT LOSS :: 0.7027706503868103\tAOT  ACC :: 0.46666666865348816\n",
      "MOI LOSS :: 0.6964451670646667\tMOI  ACC :: 0.4933333396911621\n",
      "MP  LOSS :: 0.8980632424354553\tMP   ACC :: 8.08614058769308e-05\n",
      "LOSS     :: 0.8980632424354553\n",
      "Start 45 epoch\n"
     ]
    },
    {
     "name": "stderr",
     "output_type": "stream",
     "text": [
      "100%|██████████| 100/100 [02:51<00:00,  1.72s/it]\n"
     ]
    },
    {
     "name": "stdout",
     "output_type": "stream",
     "text": [
      "AOT LOSS :: 0.7027706503868103\tAOT  ACC :: 0.5366666913032532\n",
      "MOI LOSS :: 0.6964451670646667\tMOI  ACC :: 0.5099999904632568\n",
      "MP  LOSS :: 1.3976563215255737\tMP   ACC :: 0.00012134806456742808\n",
      "LOSS     :: 1.3976563215255737\n",
      "Start 46 epoch\n"
     ]
    },
    {
     "name": "stderr",
     "output_type": "stream",
     "text": [
      "100%|██████████| 100/100 [02:41<00:00,  1.61s/it]\n"
     ]
    },
    {
     "name": "stdout",
     "output_type": "stream",
     "text": [
      "AOT LOSS :: 0.7027706503868103\tAOT  ACC :: 0.5233333110809326\n",
      "MOI LOSS :: 0.6964451670646667\tMOI  ACC :: 0.5166666507720947\n",
      "MP  LOSS :: 18.349660873413086\tMP   ACC :: 0.00019973755115643144\n",
      "LOSS     :: 18.349660873413086\n",
      "Start 47 epoch\n"
     ]
    },
    {
     "name": "stderr",
     "output_type": "stream",
     "text": [
      "100%|██████████| 100/100 [02:35<00:00,  1.55s/it]\n"
     ]
    },
    {
     "name": "stdout",
     "output_type": "stream",
     "text": [
      "AOT LOSS :: 0.7027706503868103\tAOT  ACC :: 0.5133333206176758\n",
      "MOI LOSS :: 0.6964451670646667\tMOI  ACC :: 0.5099999904632568\n",
      "MP  LOSS :: 1.1616806983947754\tMP   ACC :: 0.0003174743615090847\n",
      "LOSS     :: 1.1616806983947754\n",
      "Start 48 epoch\n"
     ]
    },
    {
     "name": "stderr",
     "output_type": "stream",
     "text": [
      "100%|██████████| 100/100 [02:45<00:00,  1.66s/it]\n"
     ]
    },
    {
     "name": "stdout",
     "output_type": "stream",
     "text": [
      "AOT LOSS :: 0.7027706503868103\tAOT  ACC :: 0.5099999904632568\n",
      "MOI LOSS :: 0.6964451670646667\tMOI  ACC :: 0.49000000953674316\n",
      "MP  LOSS :: 0.8827740550041199\tMP   ACC :: 0.00016397095168940723\n",
      "LOSS     :: 0.8827740550041199\n",
      "Start 49 epoch\n"
     ]
    },
    {
     "name": "stderr",
     "output_type": "stream",
     "text": [
      "100%|██████████| 100/100 [02:52<00:00,  1.72s/it]\n"
     ]
    },
    {
     "name": "stdout",
     "output_type": "stream",
     "text": [
      "AOT LOSS :: 0.7027706503868103\tAOT  ACC :: 0.49000000953674316\n",
      "MOI LOSS :: 0.6964451670646667\tMOI  ACC :: 0.46666666865348816\n",
      "MP  LOSS :: 0.4005833566188812\tMP   ACC :: 9.367879101773724e-05\n",
      "LOSS     :: 0.4005833566188812\n",
      "Start 50 epoch\n"
     ]
    },
    {
     "name": "stderr",
     "output_type": "stream",
     "text": [
      "100%|██████████| 100/100 [02:45<00:00,  1.65s/it]\n"
     ]
    },
    {
     "name": "stdout",
     "output_type": "stream",
     "text": [
      "AOT LOSS :: 0.7027706503868103\tAOT  ACC :: 0.49666666984558105\n",
      "MOI LOSS :: 0.6964451670646667\tMOI  ACC :: 0.49666666984558105\n",
      "MP  LOSS :: 0.6458616852760315\tMP   ACC :: 0.00020874023903161287\n",
      "LOSS     :: 0.6458616852760315\n",
      "Start 51 epoch\n"
     ]
    },
    {
     "name": "stderr",
     "output_type": "stream",
     "text": [
      "100%|██████████| 100/100 [02:51<00:00,  1.72s/it]\n"
     ]
    },
    {
     "name": "stdout",
     "output_type": "stream",
     "text": [
      "AOT LOSS :: 0.7027706503868103\tAOT  ACC :: 0.4399999976158142\n",
      "MOI LOSS :: 0.6964451670646667\tMOI  ACC :: 0.5333333611488342\n",
      "MP  LOSS :: 35.9881706237793\tMP   ACC :: 0.0002858886728063226\n",
      "LOSS     :: 35.9881706237793\n",
      "Start 52 epoch\n"
     ]
    },
    {
     "name": "stderr",
     "output_type": "stream",
     "text": [
      "100%|██████████| 100/100 [03:04<00:00,  1.85s/it]\n"
     ]
    },
    {
     "name": "stdout",
     "output_type": "stream",
     "text": [
      "AOT LOSS :: 0.7027706503868103\tAOT  ACC :: 0.5233333110809326\n",
      "MOI LOSS :: 0.6964451670646667\tMOI  ACC :: 0.5366666913032532\n",
      "MP  LOSS :: 0.799443244934082\tMP   ACC :: 2.2379557776730508e-05\n",
      "LOSS     :: 0.799443244934082\n",
      "Start 53 epoch\n"
     ]
    },
    {
     "name": "stderr",
     "output_type": "stream",
     "text": [
      "100%|██████████| 100/100 [02:51<00:00,  1.72s/it]\n"
     ]
    },
    {
     "name": "stdout",
     "output_type": "stream",
     "text": [
      "AOT LOSS :: 0.7027706503868103\tAOT  ACC :: 0.5066666603088379\n",
      "MOI LOSS :: 0.6964451670646667\tMOI  ACC :: 0.5133333206176758\n",
      "MP  LOSS :: 0.39584478735923767\tMP   ACC :: 4.926554538542405e-05\n",
      "LOSS     :: 0.39584478735923767\n",
      "Start 54 epoch\n"
     ]
    },
    {
     "name": "stderr",
     "output_type": "stream",
     "text": [
      "100%|██████████| 100/100 [02:53<00:00,  1.73s/it]\n"
     ]
    },
    {
     "name": "stdout",
     "output_type": "stream",
     "text": [
      "AOT LOSS :: 0.7027706503868103\tAOT  ACC :: 0.5533333420753479\n",
      "MOI LOSS :: 0.6964451670646667\tMOI  ACC :: 0.4866666793823242\n",
      "MP  LOSS :: 0.8727236390113831\tMP   ACC :: 0.00018154906865675002\n",
      "LOSS     :: 0.8727236390113831\n",
      "Start 55 epoch\n"
     ]
    },
    {
     "name": "stderr",
     "output_type": "stream",
     "text": [
      "100%|██████████| 100/100 [02:45<00:00,  1.66s/it]\n"
     ]
    },
    {
     "name": "stdout",
     "output_type": "stream",
     "text": [
      "AOT LOSS :: 0.7027706503868103\tAOT  ACC :: 0.4466666579246521\n",
      "MOI LOSS :: 0.6964451670646667\tMOI  ACC :: 0.5266666412353516\n",
      "MP  LOSS :: 1.653965950012207\tMP   ACC :: 0.00020408121054060757\n",
      "LOSS     :: 1.653965950012207\n",
      "Start 56 epoch\n"
     ]
    },
    {
     "name": "stderr",
     "output_type": "stream",
     "text": [
      "100%|██████████| 100/100 [02:51<00:00,  1.72s/it]\n"
     ]
    },
    {
     "name": "stdout",
     "output_type": "stream",
     "text": [
      "AOT LOSS :: 0.7027706503868103\tAOT  ACC :: 0.5266666412353516\n",
      "MOI LOSS :: 0.6964451670646667\tMOI  ACC :: 0.49666666984558105\n",
      "MP  LOSS :: 0.7435879111289978\tMP   ACC :: 0.00010892740829149261\n",
      "LOSS     :: 0.7435879111289978\n",
      "Start 57 epoch\n"
     ]
    },
    {
     "name": "stderr",
     "output_type": "stream",
     "text": [
      "100%|██████████| 100/100 [02:50<00:00,  1.71s/it]\n"
     ]
    },
    {
     "name": "stdout",
     "output_type": "stream",
     "text": [
      "AOT LOSS :: 0.7027706503868103\tAOT  ACC :: 0.49666666984558105\n",
      "MOI LOSS :: 0.6964451670646667\tMOI  ACC :: 0.5166666507720947\n",
      "MP  LOSS :: 1.6000070571899414\tMP   ACC :: 3.905232733814046e-05\n",
      "LOSS     :: 1.6000070571899414\n",
      "Start 58 epoch\n"
     ]
    },
    {
     "name": "stderr",
     "output_type": "stream",
     "text": [
      "100%|██████████| 100/100 [02:40<00:00,  1.60s/it]\n"
     ]
    },
    {
     "name": "stdout",
     "output_type": "stream",
     "text": [
      "AOT LOSS :: 0.7027706503868103\tAOT  ACC :: 0.43666666746139526\n",
      "MOI LOSS :: 0.6964451670646667\tMOI  ACC :: 0.5333333611488342\n",
      "MP  LOSS :: 0.6217408776283264\tMP   ACC :: 0.00020186360052321106\n",
      "LOSS     :: 0.6217408776283264\n",
      "Start 59 epoch\n"
     ]
    },
    {
     "name": "stderr",
     "output_type": "stream",
     "text": [
      "100%|██████████| 100/100 [02:40<00:00,  1.61s/it]\n"
     ]
    },
    {
     "name": "stdout",
     "output_type": "stream",
     "text": [
      "AOT LOSS :: 0.7027706503868103\tAOT  ACC :: 0.44333332777023315\n",
      "MOI LOSS :: 0.6964451670646667\tMOI  ACC :: 0.5099999904632568\n",
      "MP  LOSS :: 1.476251244544983\tMP   ACC :: 0.00025887045194394886\n",
      "LOSS     :: 1.476251244544983\n",
      "Start 60 epoch\n"
     ]
    },
    {
     "name": "stderr",
     "output_type": "stream",
     "text": [
      "100%|██████████| 100/100 [02:44<00:00,  1.65s/it]\n"
     ]
    },
    {
     "name": "stdout",
     "output_type": "stream",
     "text": [
      "AOT LOSS :: 0.7027706503868103\tAOT  ACC :: 0.4933333396911621\n",
      "MOI LOSS :: 0.6964451670646667\tMOI  ACC :: 0.49000000953674316\n",
      "MP  LOSS :: 0.9653965830802917\tMP   ACC :: 0.00018084717157762498\n",
      "LOSS     :: 0.9653965830802917\n",
      "Start 61 epoch\n"
     ]
    },
    {
     "name": "stderr",
     "output_type": "stream",
     "text": [
      "100%|██████████| 100/100 [02:50<00:00,  1.71s/it]\n"
     ]
    },
    {
     "name": "stdout",
     "output_type": "stream",
     "text": [
      "AOT LOSS :: 0.7027706503868103\tAOT  ACC :: 0.5099999904632568\n",
      "MOI LOSS :: 0.6964451670646667\tMOI  ACC :: 0.47333332896232605\n",
      "MP  LOSS :: 1.419458031654358\tMP   ACC :: 6.246948032639921e-05\n",
      "LOSS     :: 1.419458031654358\n",
      "Start 62 epoch\n"
     ]
    },
    {
     "name": "stderr",
     "output_type": "stream",
     "text": [
      "100%|██████████| 100/100 [02:49<00:00,  1.69s/it]\n"
     ]
    },
    {
     "name": "stdout",
     "output_type": "stream",
     "text": [
      "AOT LOSS :: 0.7027706503868103\tAOT  ACC :: 0.4933333396911621\n",
      "MOI LOSS :: 0.6964451670646667\tMOI  ACC :: 0.4633333384990692\n",
      "MP  LOSS :: 1.4973081350326538\tMP   ACC :: 0.00014148966874927282\n",
      "LOSS     :: 1.4973081350326538\n",
      "Start 63 epoch\n"
     ]
    },
    {
     "name": "stderr",
     "output_type": "stream",
     "text": [
      "100%|██████████| 100/100 [02:41<00:00,  1.62s/it]\n"
     ]
    },
    {
     "name": "stdout",
     "output_type": "stream",
     "text": [
      "AOT LOSS :: 0.7027706503868103\tAOT  ACC :: 0.5533333420753479\n",
      "MOI LOSS :: 0.6964451670646667\tMOI  ACC :: 0.5133333206176758\n",
      "MP  LOSS :: 2.9780445098876953\tMP   ACC :: 0.00018074543913826346\n",
      "LOSS     :: 2.9780445098876953\n",
      "Start 64 epoch\n"
     ]
    },
    {
     "name": "stderr",
     "output_type": "stream",
     "text": [
      "100%|██████████| 100/100 [02:48<00:00,  1.69s/it]\n"
     ]
    },
    {
     "name": "stdout",
     "output_type": "stream",
     "text": [
      "AOT LOSS :: 0.7027706503868103\tAOT  ACC :: 0.49666666984558105\n",
      "MOI LOSS :: 0.6964451670646667\tMOI  ACC :: 0.5166666507720947\n",
      "MP  LOSS :: 6.104422092437744\tMP   ACC :: 0.00022978719789534807\n",
      "LOSS     :: 6.104422092437744\n",
      "Start 65 epoch\n"
     ]
    },
    {
     "name": "stderr",
     "output_type": "stream",
     "text": [
      "100%|██████████| 100/100 [02:51<00:00,  1.71s/it]\n"
     ]
    },
    {
     "name": "stdout",
     "output_type": "stream",
     "text": [
      "AOT LOSS :: 0.7027706503868103\tAOT  ACC :: 0.4566666781902313\n",
      "MOI LOSS :: 0.6964451670646667\tMOI  ACC :: 0.4866666793823242\n",
      "MP  LOSS :: 1.085294485092163\tMP   ACC :: 0.00012725830310955644\n",
      "LOSS     :: 1.085294485092163\n",
      "Start 66 epoch\n"
     ]
    },
    {
     "name": "stderr",
     "output_type": "stream",
     "text": [
      "100%|██████████| 100/100 [02:39<00:00,  1.59s/it]\n"
     ]
    },
    {
     "name": "stdout",
     "output_type": "stream",
     "text": [
      "AOT LOSS :: 0.7027706503868103\tAOT  ACC :: 0.5433333516120911\n",
      "MOI LOSS :: 0.6964451670646667\tMOI  ACC :: 0.47999998927116394\n",
      "MP  LOSS :: 1.2371593713760376\tMP   ACC :: 0.0001279703719774261\n",
      "LOSS     :: 1.2371593713760376\n",
      "Start 67 epoch\n"
     ]
    },
    {
     "name": "stderr",
     "output_type": "stream",
     "text": [
      "100%|██████████| 100/100 [02:56<00:00,  1.76s/it]\n"
     ]
    },
    {
     "name": "stdout",
     "output_type": "stream",
     "text": [
      "AOT LOSS :: 0.7027706503868103\tAOT  ACC :: 0.5099999904632568\n",
      "MOI LOSS :: 0.6964451670646667\tMOI  ACC :: 0.49000000953674316\n",
      "MP  LOSS :: 3.4056835174560547\tMP   ACC :: 0.00010116577323060483\n",
      "LOSS     :: 3.4056835174560547\n",
      "Start 68 epoch\n"
     ]
    },
    {
     "name": "stderr",
     "output_type": "stream",
     "text": [
      "100%|██████████| 100/100 [02:40<00:00,  1.61s/it]\n"
     ]
    },
    {
     "name": "stdout",
     "output_type": "stream",
     "text": [
      "AOT LOSS :: 0.7027706503868103\tAOT  ACC :: 0.5166666507720947\n",
      "MOI LOSS :: 0.6964451670646667\tMOI  ACC :: 0.49666666984558105\n",
      "MP  LOSS :: 1.3630205392837524\tMP   ACC :: 9.44824205362238e-05\n",
      "LOSS     :: 1.3630205392837524\n",
      "Start 69 epoch\n"
     ]
    },
    {
     "name": "stderr",
     "output_type": "stream",
     "text": [
      "100%|██████████| 100/100 [02:43<00:00,  1.63s/it]\n"
     ]
    },
    {
     "name": "stdout",
     "output_type": "stream",
     "text": [
      "AOT LOSS :: 0.7027706503868103\tAOT  ACC :: 0.46666666865348816\n",
      "MOI LOSS :: 0.6964451670646667\tMOI  ACC :: 0.5299999713897705\n",
      "MP  LOSS :: 0.92205810546875\tMP   ACC :: 0.00014263915363699198\n",
      "LOSS     :: 0.92205810546875\n",
      "Start 70 epoch\n"
     ]
    },
    {
     "name": "stderr",
     "output_type": "stream",
     "text": [
      "100%|██████████| 100/100 [02:41<00:00,  1.62s/it]\n"
     ]
    },
    {
     "name": "stdout",
     "output_type": "stream",
     "text": [
      "AOT LOSS :: 0.7027706503868103\tAOT  ACC :: 0.5333333611488342\n",
      "MOI LOSS :: 0.6964451670646667\tMOI  ACC :: 0.4866666793823242\n",
      "MP  LOSS :: 1.1147656440734863\tMP   ACC :: 9.807332389755175e-05\n",
      "LOSS     :: 1.1147656440734863\n",
      "Start 71 epoch\n"
     ]
    },
    {
     "name": "stderr",
     "output_type": "stream",
     "text": [
      "100%|██████████| 100/100 [02:41<00:00,  1.62s/it]\n"
     ]
    },
    {
     "name": "stdout",
     "output_type": "stream",
     "text": [
      "AOT LOSS :: 0.7027706503868103\tAOT  ACC :: 0.5400000214576721\n",
      "MOI LOSS :: 0.6964451670646667\tMOI  ACC :: 0.49666666984558105\n",
      "MP  LOSS :: 1.5778754949569702\tMP   ACC :: 0.00020263671467546374\n",
      "LOSS     :: 1.5778754949569702\n",
      "Start 72 epoch\n"
     ]
    },
    {
     "name": "stderr",
     "output_type": "stream",
     "text": [
      "100%|██████████| 100/100 [02:53<00:00,  1.74s/it]\n"
     ]
    },
    {
     "name": "stdout",
     "output_type": "stream",
     "text": [
      "AOT LOSS :: 0.7027706503868103\tAOT  ACC :: 0.5299999713897705\n",
      "MOI LOSS :: 0.6964451670646667\tMOI  ACC :: 0.5400000214576721\n",
      "MP  LOSS :: 1.4285024404525757\tMP   ACC :: 0.00012804158905055374\n",
      "LOSS     :: 1.4285024404525757\n",
      "Start 73 epoch\n"
     ]
    },
    {
     "name": "stderr",
     "output_type": "stream",
     "text": [
      "100%|██████████| 100/100 [02:48<00:00,  1.68s/it]\n"
     ]
    },
    {
     "name": "stdout",
     "output_type": "stream",
     "text": [
      "AOT LOSS :: 0.7027706503868103\tAOT  ACC :: 0.49666666984558105\n",
      "MOI LOSS :: 0.6964451670646667\tMOI  ACC :: 0.4699999988079071\n",
      "MP  LOSS :: 0.7178862690925598\tMP   ACC :: 0.00023800658527761698\n",
      "LOSS     :: 0.7178862690925598\n",
      "Start 74 epoch\n"
     ]
    },
    {
     "name": "stderr",
     "output_type": "stream",
     "text": [
      "100%|██████████| 100/100 [02:39<00:00,  1.60s/it]\n"
     ]
    },
    {
     "name": "stdout",
     "output_type": "stream",
     "text": [
      "AOT LOSS :: 0.7027706503868103\tAOT  ACC :: 0.43666666746139526\n",
      "MOI LOSS :: 0.6964451670646667\tMOI  ACC :: 0.47999998927116394\n",
      "MP  LOSS :: 0.6530900001525879\tMP   ACC :: 0.0003294881316833198\n",
      "LOSS     :: 0.6530900001525879\n",
      "Start 75 epoch\n"
     ]
    },
    {
     "name": "stderr",
     "output_type": "stream",
     "text": [
      "100%|██████████| 100/100 [02:52<00:00,  1.72s/it]\n"
     ]
    },
    {
     "name": "stdout",
     "output_type": "stream",
     "text": [
      "AOT LOSS :: 0.7027706503868103\tAOT  ACC :: 0.5\n",
      "MOI LOSS :: 0.6964451670646667\tMOI  ACC :: 0.503333330154419\n",
      "MP  LOSS :: 2.7697219848632812\tMP   ACC :: 0.00011016845382982865\n",
      "LOSS     :: 2.7697219848632812\n",
      "Start 76 epoch\n"
     ]
    },
    {
     "name": "stderr",
     "output_type": "stream",
     "text": [
      "100%|██████████| 100/100 [02:48<00:00,  1.68s/it]\n"
     ]
    },
    {
     "name": "stdout",
     "output_type": "stream",
     "text": [
      "AOT LOSS :: 0.7027706503868103\tAOT  ACC :: 0.503333330154419\n",
      "MOI LOSS :: 0.6964451670646667\tMOI  ACC :: 0.4866666793823242\n",
      "MP  LOSS :: 3.303004026412964\tMP   ACC :: 0.0003045450721401721\n",
      "LOSS     :: 3.303004026412964\n",
      "Start 77 epoch\n"
     ]
    },
    {
     "name": "stderr",
     "output_type": "stream",
     "text": [
      "100%|██████████| 100/100 [02:55<00:00,  1.75s/it]\n"
     ]
    },
    {
     "name": "stdout",
     "output_type": "stream",
     "text": [
      "AOT LOSS :: 0.7027706503868103\tAOT  ACC :: 0.5133333206176758\n",
      "MOI LOSS :: 0.6964451670646667\tMOI  ACC :: 0.5133333206176758\n",
      "MP  LOSS :: 1.4429563283920288\tMP   ACC :: 7.376098801614717e-05\n",
      "LOSS     :: 1.4429563283920288\n",
      "Start 78 epoch\n"
     ]
    },
    {
     "name": "stderr",
     "output_type": "stream",
     "text": [
      "100%|██████████| 100/100 [02:45<00:00,  1.66s/it]\n"
     ]
    },
    {
     "name": "stdout",
     "output_type": "stream",
     "text": [
      "AOT LOSS :: 0.7027706503868103\tAOT  ACC :: 0.5066666603088379\n",
      "MOI LOSS :: 0.6964451670646667\tMOI  ACC :: 0.47999998927116394\n",
      "MP  LOSS :: 1.0977638959884644\tMP   ACC :: 0.00021727498096879572\n",
      "LOSS     :: 1.0977638959884644\n",
      "Start 79 epoch\n"
     ]
    },
    {
     "name": "stderr",
     "output_type": "stream",
     "text": [
      "100%|██████████| 100/100 [02:45<00:00,  1.66s/it]\n"
     ]
    },
    {
     "name": "stdout",
     "output_type": "stream",
     "text": [
      "AOT LOSS :: 0.7027706503868103\tAOT  ACC :: 0.4866666793823242\n",
      "MOI LOSS :: 0.6964451670646667\tMOI  ACC :: 0.47999998927116394\n",
      "MP  LOSS :: 0.9098256230354309\tMP   ACC :: 7.511393050663173e-05\n",
      "LOSS     :: 0.9098256230354309\n",
      "Start 80 epoch\n"
     ]
    },
    {
     "name": "stderr",
     "output_type": "stream",
     "text": [
      "100%|██████████| 100/100 [02:42<00:00,  1.62s/it]\n"
     ]
    },
    {
     "name": "stdout",
     "output_type": "stream",
     "text": [
      "AOT LOSS :: 0.7027706503868103\tAOT  ACC :: 0.5066666603088379\n",
      "MOI LOSS :: 0.6964451670646667\tMOI  ACC :: 0.5299999713897705\n",
      "MP  LOSS :: 1.4724136590957642\tMP   ACC :: 0.00014400227519217879\n",
      "LOSS     :: 1.4724136590957642\n",
      "Start 81 epoch\n"
     ]
    },
    {
     "name": "stderr",
     "output_type": "stream",
     "text": [
      "100%|██████████| 100/100 [02:54<00:00,  1.74s/it]\n"
     ]
    },
    {
     "name": "stdout",
     "output_type": "stream",
     "text": [
      "AOT LOSS :: 0.7027706503868103\tAOT  ACC :: 0.5099999904632568\n",
      "MOI LOSS :: 0.6964451670646667\tMOI  ACC :: 0.5099999904632568\n",
      "MP  LOSS :: 3.134218215942383\tMP   ACC :: 0.00012184651859570295\n",
      "LOSS     :: 3.134218215942383\n",
      "Start 82 epoch\n"
     ]
    },
    {
     "name": "stderr",
     "output_type": "stream",
     "text": [
      "100%|██████████| 100/100 [02:46<00:00,  1.67s/it]\n"
     ]
    },
    {
     "name": "stdout",
     "output_type": "stream",
     "text": [
      "AOT LOSS :: 0.7027706503868103\tAOT  ACC :: 0.43666666746139526\n",
      "MOI LOSS :: 0.6964451670646667\tMOI  ACC :: 0.46000000834465027\n",
      "MP  LOSS :: 1.7085990905761719\tMP   ACC :: 0.00012486775813158602\n",
      "LOSS     :: 1.7085990905761719\n",
      "Start 83 epoch\n"
     ]
    },
    {
     "name": "stderr",
     "output_type": "stream",
     "text": [
      "100%|██████████| 100/100 [02:50<00:00,  1.71s/it]\n"
     ]
    },
    {
     "name": "stdout",
     "output_type": "stream",
     "text": [
      "AOT LOSS :: 0.7027706503868103\tAOT  ACC :: 0.4399999976158142\n",
      "MOI LOSS :: 0.6964451670646667\tMOI  ACC :: 0.4466666579246521\n",
      "MP  LOSS :: 9.994016647338867\tMP   ACC :: 0.00017524210852570832\n",
      "LOSS     :: 9.994016647338867\n",
      "Start 84 epoch\n"
     ]
    },
    {
     "name": "stderr",
     "output_type": "stream",
     "text": [
      "100%|██████████| 100/100 [02:49<00:00,  1.69s/it]\n"
     ]
    },
    {
     "name": "stdout",
     "output_type": "stream",
     "text": [
      "AOT LOSS :: 0.7027706503868103\tAOT  ACC :: 0.5066666603088379\n",
      "MOI LOSS :: 0.6964451670646667\tMOI  ACC :: 0.5066666603088379\n",
      "MP  LOSS :: 1.052234172821045\tMP   ACC :: 0.00011869303125422448\n",
      "LOSS     :: 1.052234172821045\n",
      "Start 85 epoch\n"
     ]
    },
    {
     "name": "stderr",
     "output_type": "stream",
     "text": [
      "100%|██████████| 100/100 [02:37<00:00,  1.58s/it]\n"
     ]
    },
    {
     "name": "stdout",
     "output_type": "stream",
     "text": [
      "AOT LOSS :: 0.7027706503868103\tAOT  ACC :: 0.4633333384990692\n",
      "MOI LOSS :: 0.6964451670646667\tMOI  ACC :: 0.5099999904632568\n",
      "MP  LOSS :: 1.1556215286254883\tMP   ACC :: 0.00028958130860701203\n",
      "LOSS     :: 1.1556215286254883\n",
      "Start 86 epoch\n"
     ]
    },
    {
     "name": "stderr",
     "output_type": "stream",
     "text": [
      "100%|██████████| 100/100 [02:42<00:00,  1.62s/it]\n"
     ]
    },
    {
     "name": "stdout",
     "output_type": "stream",
     "text": [
      "AOT LOSS :: 0.7027706503868103\tAOT  ACC :: 0.47999998927116394\n",
      "MOI LOSS :: 0.6964451670646667\tMOI  ACC :: 0.5099999904632568\n",
      "MP  LOSS :: 1.7075029611587524\tMP   ACC :: 0.00027382405824027956\n",
      "LOSS     :: 1.7075029611587524\n",
      "Start 87 epoch\n"
     ]
    },
    {
     "name": "stderr",
     "output_type": "stream",
     "text": [
      "100%|██████████| 100/100 [02:43<00:00,  1.64s/it]\n"
     ]
    },
    {
     "name": "stdout",
     "output_type": "stream",
     "text": [
      "AOT LOSS :: 0.7027706503868103\tAOT  ACC :: 0.5299999713897705\n",
      "MOI LOSS :: 0.6964451670646667\tMOI  ACC :: 0.5099999904632568\n",
      "MP  LOSS :: 1.1153913736343384\tMP   ACC :: 0.00026323445490561426\n",
      "LOSS     :: 1.1153913736343384\n",
      "Start 88 epoch\n"
     ]
    },
    {
     "name": "stderr",
     "output_type": "stream",
     "text": [
      "100%|██████████| 100/100 [02:41<00:00,  1.61s/it]\n"
     ]
    },
    {
     "name": "stdout",
     "output_type": "stream",
     "text": [
      "AOT LOSS :: 0.7027706503868103\tAOT  ACC :: 0.47999998927116394\n",
      "MOI LOSS :: 0.6964451670646667\tMOI  ACC :: 0.5633333325386047\n",
      "MP  LOSS :: 32.99418258666992\tMP   ACC :: 0.00012774657807312906\n",
      "LOSS     :: 32.99418258666992\n",
      "Start 89 epoch\n"
     ]
    },
    {
     "name": "stderr",
     "output_type": "stream",
     "text": [
      "100%|██████████| 100/100 [02:49<00:00,  1.69s/it]\n"
     ]
    },
    {
     "name": "stdout",
     "output_type": "stream",
     "text": [
      "AOT LOSS :: 0.7027706503868103\tAOT  ACC :: 0.5133333206176758\n",
      "MOI LOSS :: 0.6964451670646667\tMOI  ACC :: 0.5433333516120911\n",
      "MP  LOSS :: 1.667327880859375\tMP   ACC :: 2.894083627325017e-05\n",
      "LOSS     :: 1.667327880859375\n",
      "Start 90 epoch\n"
     ]
    },
    {
     "name": "stderr",
     "output_type": "stream",
     "text": [
      "100%|██████████| 100/100 [02:39<00:00,  1.60s/it]\n"
     ]
    },
    {
     "name": "stdout",
     "output_type": "stream",
     "text": [
      "AOT LOSS :: 0.7027706503868103\tAOT  ACC :: 0.5266666412353516\n",
      "MOI LOSS :: 0.6964451670646667\tMOI  ACC :: 0.49000000953674316\n",
      "MP  LOSS :: 0.5562422871589661\tMP   ACC :: 0.00018504842591937631\n",
      "LOSS     :: 0.5562422871589661\n",
      "Start 91 epoch\n"
     ]
    },
    {
     "name": "stderr",
     "output_type": "stream",
     "text": [
      "100%|██████████| 100/100 [02:52<00:00,  1.73s/it]\n"
     ]
    },
    {
     "name": "stdout",
     "output_type": "stream",
     "text": [
      "AOT LOSS :: 0.7027706503868103\tAOT  ACC :: 0.5\n",
      "MOI LOSS :: 0.6964451670646667\tMOI  ACC :: 0.5166666507720947\n",
      "MP  LOSS :: 0.9016916751861572\tMP   ACC :: 0.00014269002713263035\n",
      "LOSS     :: 0.9016916751861572\n",
      "Start 92 epoch\n"
     ]
    },
    {
     "name": "stderr",
     "output_type": "stream",
     "text": [
      "100%|██████████| 100/100 [02:57<00:00,  1.77s/it]\n"
     ]
    },
    {
     "name": "stdout",
     "output_type": "stream",
     "text": [
      "AOT LOSS :: 0.7027706503868103\tAOT  ACC :: 0.49666666984558105\n",
      "MOI LOSS :: 0.6964451670646667\tMOI  ACC :: 0.5333333611488342\n",
      "MP  LOSS :: 20.04978370666504\tMP   ACC :: 0.0001665242452872917\n",
      "LOSS     :: 20.04978370666504\n",
      "Start 93 epoch\n"
     ]
    },
    {
     "name": "stderr",
     "output_type": "stream",
     "text": [
      "100%|██████████| 100/100 [02:46<00:00,  1.66s/it]\n"
     ]
    },
    {
     "name": "stdout",
     "output_type": "stream",
     "text": [
      "AOT LOSS :: 0.7027706503868103\tAOT  ACC :: 0.4099999964237213\n",
      "MOI LOSS :: 0.6964451670646667\tMOI  ACC :: 0.5433333516120911\n",
      "MP  LOSS :: 38.72037887573242\tMP   ACC :: 0.00015227253607008606\n",
      "LOSS     :: 38.72037887573242\n",
      "Start 94 epoch\n"
     ]
    },
    {
     "name": "stderr",
     "output_type": "stream",
     "text": [
      "100%|██████████| 100/100 [02:49<00:00,  1.69s/it]\n"
     ]
    },
    {
     "name": "stdout",
     "output_type": "stream",
     "text": [
      "AOT LOSS :: 0.7027706503868103\tAOT  ACC :: 0.4833333194255829\n",
      "MOI LOSS :: 0.6964451670646667\tMOI  ACC :: 0.4866666793823242\n",
      "MP  LOSS :: 1.2574149370193481\tMP   ACC :: 0.00012409464397933334\n",
      "LOSS     :: 1.2574149370193481\n",
      "Start 95 epoch\n"
     ]
    },
    {
     "name": "stderr",
     "output_type": "stream",
     "text": [
      "100%|██████████| 100/100 [02:51<00:00,  1.72s/it]\n"
     ]
    },
    {
     "name": "stdout",
     "output_type": "stream",
     "text": [
      "AOT LOSS :: 0.7027706503868103\tAOT  ACC :: 0.5099999904632568\n",
      "MOI LOSS :: 0.6964451670646667\tMOI  ACC :: 0.5400000214576721\n",
      "MP  LOSS :: 43.20090103149414\tMP   ACC :: 0.00015472412633243948\n",
      "LOSS     :: 43.20090103149414\n",
      "Start 96 epoch\n"
     ]
    },
    {
     "name": "stderr",
     "output_type": "stream",
     "text": [
      "100%|██████████| 100/100 [02:52<00:00,  1.72s/it]\n"
     ]
    },
    {
     "name": "stdout",
     "output_type": "stream",
     "text": [
      "AOT LOSS :: 0.7027706503868103\tAOT  ACC :: 0.5166666507720947\n",
      "MOI LOSS :: 0.6964451670646667\tMOI  ACC :: 0.5066666603088379\n",
      "MP  LOSS :: 0.508587658405304\tMP   ACC :: 0.0001963500981219113\n",
      "LOSS     :: 0.508587658405304\n",
      "Start 97 epoch\n"
     ]
    },
    {
     "name": "stderr",
     "output_type": "stream",
     "text": [
      "100%|██████████| 100/100 [02:47<00:00,  1.67s/it]\n"
     ]
    },
    {
     "name": "stdout",
     "output_type": "stream",
     "text": [
      "AOT LOSS :: 0.7027706503868103\tAOT  ACC :: 0.5133333206176758\n",
      "MOI LOSS :: 0.6964451670646667\tMOI  ACC :: 0.46666666865348816\n",
      "MP  LOSS :: 0.9510825276374817\tMP   ACC :: 0.00015719604562036693\n",
      "LOSS     :: 0.9510825276374817\n",
      "Start 98 epoch\n"
     ]
    },
    {
     "name": "stderr",
     "output_type": "stream",
     "text": [
      "100%|██████████| 100/100 [02:51<00:00,  1.72s/it]\n"
     ]
    },
    {
     "name": "stdout",
     "output_type": "stream",
     "text": [
      "AOT LOSS :: 0.7027706503868103\tAOT  ACC :: 0.49000000953674316\n",
      "MOI LOSS :: 0.6964451670646667\tMOI  ACC :: 0.47333332896232605\n",
      "MP  LOSS :: 2.2447047233581543\tMP   ACC :: 0.0001638997346162796\n",
      "LOSS     :: 2.2447047233581543\n",
      "Start 99 epoch\n"
     ]
    },
    {
     "name": "stderr",
     "output_type": "stream",
     "text": [
      "100%|██████████| 100/100 [02:40<00:00,  1.60s/it]\n"
     ]
    },
    {
     "name": "stdout",
     "output_type": "stream",
     "text": [
      "AOT LOSS :: 0.7027706503868103\tAOT  ACC :: 0.47333332896232605\n",
      "MOI LOSS :: 0.6964451670646667\tMOI  ACC :: 0.49666666984558105\n",
      "MP  LOSS :: 0.8063170909881592\tMP   ACC :: 0.00028069052495993674\n",
      "LOSS     :: 0.8063170909881592\n",
      "Start 100 epoch\n"
     ]
    },
    {
     "name": "stderr",
     "output_type": "stream",
     "text": [
      "100%|██████████| 100/100 [02:55<00:00,  1.75s/it]\n"
     ]
    },
    {
     "name": "stdout",
     "output_type": "stream",
     "text": [
      "AOT LOSS :: 0.7027706503868103\tAOT  ACC :: 0.476666659116745\n",
      "MOI LOSS :: 0.6964451670646667\tMOI  ACC :: 0.5433333516120911\n",
      "MP  LOSS :: 1.3577831983566284\tMP   ACC :: 0.00012967936345376074\n",
      "LOSS     :: 1.3577831983566284\n",
      "Start 101 epoch\n"
     ]
    },
    {
     "name": "stderr",
     "output_type": "stream",
     "text": [
      "100%|██████████| 100/100 [02:56<00:00,  1.76s/it]\n"
     ]
    },
    {
     "name": "stdout",
     "output_type": "stream",
     "text": [
      "AOT LOSS :: 0.7027706503868103\tAOT  ACC :: 0.4833333194255829\n",
      "MOI LOSS :: 0.6964451670646667\tMOI  ACC :: 0.4533333480358124\n",
      "MP  LOSS :: 1.886940360069275\tMP   ACC :: 0.00014801025099586695\n",
      "LOSS     :: 1.886940360069275\n",
      "Start 102 epoch\n"
     ]
    },
    {
     "name": "stderr",
     "output_type": "stream",
     "text": [
      "100%|██████████| 100/100 [02:57<00:00,  1.77s/it]\n"
     ]
    },
    {
     "name": "stdout",
     "output_type": "stream",
     "text": [
      "AOT LOSS :: 0.7027706503868103\tAOT  ACC :: 0.5333333611488342\n",
      "MOI LOSS :: 0.6964451670646667\tMOI  ACC :: 0.54666668176651\n",
      "MP  LOSS :: 2.41316819190979\tMP   ACC :: 4.0852864913176745e-05\n",
      "LOSS     :: 2.41316819190979\n",
      "Start 103 epoch\n"
     ]
    },
    {
     "name": "stderr",
     "output_type": "stream",
     "text": [
      "100%|██████████| 100/100 [03:02<00:00,  1.82s/it]\n"
     ]
    },
    {
     "name": "stdout",
     "output_type": "stream",
     "text": [
      "AOT LOSS :: 0.7027706503868103\tAOT  ACC :: 0.5133333206176758\n",
      "MOI LOSS :: 0.6964451670646667\tMOI  ACC :: 0.5233333110809326\n",
      "MP  LOSS :: 1.6335525512695312\tMP   ACC :: 0.0001875712041510269\n",
      "LOSS     :: 1.6335525512695312\n",
      "Start 104 epoch\n"
     ]
    },
    {
     "name": "stderr",
     "output_type": "stream",
     "text": [
      "100%|██████████| 100/100 [02:54<00:00,  1.74s/it]\n"
     ]
    },
    {
     "name": "stdout",
     "output_type": "stream",
     "text": [
      "AOT LOSS :: 0.7027706503868103\tAOT  ACC :: 0.4933333396911621\n",
      "MOI LOSS :: 0.6964451670646667\tMOI  ACC :: 0.4466666579246521\n",
      "MP  LOSS :: 1.1994667053222656\tMP   ACC :: 7.492065196856856e-05\n",
      "LOSS     :: 1.1994667053222656\n",
      "Start 105 epoch\n"
     ]
    },
    {
     "name": "stderr",
     "output_type": "stream",
     "text": [
      "100%|██████████| 100/100 [02:42<00:00,  1.62s/it]\n"
     ]
    },
    {
     "name": "stdout",
     "output_type": "stream",
     "text": [
      "AOT LOSS :: 0.7027706503868103\tAOT  ACC :: 0.4933333396911621\n",
      "MOI LOSS :: 0.6964451670646667\tMOI  ACC :: 0.4566666781902313\n",
      "MP  LOSS :: 4.164994239807129\tMP   ACC :: 0.00020107014279346913\n",
      "LOSS     :: 4.164994239807129\n",
      "Start 106 epoch\n"
     ]
    },
    {
     "name": "stderr",
     "output_type": "stream",
     "text": [
      "100%|██████████| 100/100 [02:55<00:00,  1.76s/it]\n"
     ]
    },
    {
     "name": "stdout",
     "output_type": "stream",
     "text": [
      "AOT LOSS :: 0.7027706503868103\tAOT  ACC :: 0.550000011920929\n",
      "MOI LOSS :: 0.6964451670646667\tMOI  ACC :: 0.4533333480358124\n",
      "MP  LOSS :: 1.8807166814804077\tMP   ACC :: 0.00016407266957685351\n",
      "LOSS     :: 1.8807166814804077\n",
      "Start 107 epoch\n"
     ]
    },
    {
     "name": "stderr",
     "output_type": "stream",
     "text": [
      "100%|██████████| 100/100 [02:53<00:00,  1.74s/it]\n"
     ]
    },
    {
     "name": "stdout",
     "output_type": "stream",
     "text": [
      "AOT LOSS :: 0.7027706503868103\tAOT  ACC :: 0.5433333516120911\n",
      "MOI LOSS :: 0.6964451670646667\tMOI  ACC :: 0.5066666603088379\n",
      "MP  LOSS :: 0.39529481530189514\tMP   ACC :: 0.00011481730325613171\n",
      "LOSS     :: 0.39529481530189514\n",
      "Start 108 epoch\n"
     ]
    },
    {
     "name": "stderr",
     "output_type": "stream",
     "text": [
      "100%|██████████| 100/100 [02:57<00:00,  1.77s/it]\n"
     ]
    },
    {
     "name": "stdout",
     "output_type": "stream",
     "text": [
      "AOT LOSS :: 0.7027706503868103\tAOT  ACC :: 0.5233333110809326\n",
      "MOI LOSS :: 0.6964451670646667\tMOI  ACC :: 0.503333330154419\n",
      "MP  LOSS :: 3.173731565475464\tMP   ACC :: 0.00017228189972229302\n",
      "LOSS     :: 3.173731565475464\n",
      "Start 109 epoch\n"
     ]
    },
    {
     "name": "stderr",
     "output_type": "stream",
     "text": [
      "100%|██████████| 100/100 [02:58<00:00,  1.78s/it]\n"
     ]
    },
    {
     "name": "stdout",
     "output_type": "stream",
     "text": [
      "AOT LOSS :: 0.7027706503868103\tAOT  ACC :: 0.476666659116745\n",
      "MOI LOSS :: 0.6964451670646667\tMOI  ACC :: 0.5166666507720947\n",
      "MP  LOSS :: 1.171546220779419\tMP   ACC :: 0.00020607502665370703\n",
      "LOSS     :: 1.171546220779419\n",
      "Start 110 epoch\n"
     ]
    },
    {
     "name": "stderr",
     "output_type": "stream",
     "text": [
      "100%|██████████| 100/100 [02:58<00:00,  1.78s/it]\n"
     ]
    },
    {
     "name": "stdout",
     "output_type": "stream",
     "text": [
      "AOT LOSS :: 0.7027706503868103\tAOT  ACC :: 0.503333330154419\n",
      "MOI LOSS :: 0.6964451670646667\tMOI  ACC :: 0.49000000953674316\n",
      "MP  LOSS :: 1.9790650606155396\tMP   ACC :: 0.0001933593739522621\n",
      "LOSS     :: 1.9790650606155396\n",
      "Start 111 epoch\n"
     ]
    },
    {
     "name": "stderr",
     "output_type": "stream",
     "text": [
      "100%|██████████| 100/100 [02:55<00:00,  1.75s/it]\n"
     ]
    },
    {
     "name": "stdout",
     "output_type": "stream",
     "text": [
      "AOT LOSS :: 0.7027706503868103\tAOT  ACC :: 0.5099999904632568\n",
      "MOI LOSS :: 0.6964451670646667\tMOI  ACC :: 0.503333330154419\n",
      "MP  LOSS :: 0.7159366011619568\tMP   ACC :: 9.788004535948858e-05\n",
      "LOSS     :: 0.7159366011619568\n",
      "Start 112 epoch\n"
     ]
    },
    {
     "name": "stderr",
     "output_type": "stream",
     "text": [
      "100%|██████████| 100/100 [02:55<00:00,  1.76s/it]\n"
     ]
    },
    {
     "name": "stdout",
     "output_type": "stream",
     "text": [
      "AOT LOSS :: 0.7027706503868103\tAOT  ACC :: 0.47999998927116394\n",
      "MOI LOSS :: 0.6964451670646667\tMOI  ACC :: 0.476666659116745\n",
      "MP  LOSS :: 2.1931564807891846\tMP   ACC :: 0.00010805256897583604\n",
      "LOSS     :: 2.1931564807891846\n",
      "Start 113 epoch\n"
     ]
    },
    {
     "name": "stderr",
     "output_type": "stream",
     "text": [
      "100%|██████████| 100/100 [02:38<00:00,  1.58s/it]\n"
     ]
    },
    {
     "name": "stdout",
     "output_type": "stream",
     "text": [
      "AOT LOSS :: 0.7027706503868103\tAOT  ACC :: 0.4699999988079071\n",
      "MOI LOSS :: 0.6964451670646667\tMOI  ACC :: 0.5133333206176758\n",
      "MP  LOSS :: 0.8963804841041565\tMP   ACC :: 6.163533544167876e-05\n",
      "LOSS     :: 0.8963804841041565\n",
      "Start 114 epoch\n"
     ]
    },
    {
     "name": "stderr",
     "output_type": "stream",
     "text": [
      "100%|██████████| 100/100 [02:51<00:00,  1.72s/it]\n"
     ]
    },
    {
     "name": "stdout",
     "output_type": "stream",
     "text": [
      "AOT LOSS :: 0.7027706503868103\tAOT  ACC :: 0.49666666984558105\n",
      "MOI LOSS :: 0.6964451670646667\tMOI  ACC :: 0.5066666603088379\n",
      "MP  LOSS :: 0.8361771702766418\tMP   ACC :: 8.319092012243345e-05\n",
      "LOSS     :: 0.8361771702766418\n",
      "Start 115 epoch\n"
     ]
    },
    {
     "name": "stderr",
     "output_type": "stream",
     "text": [
      "100%|██████████| 100/100 [03:02<00:00,  1.83s/it]\n"
     ]
    },
    {
     "name": "stdout",
     "output_type": "stream",
     "text": [
      "AOT LOSS :: 0.7027706503868103\tAOT  ACC :: 0.5299999713897705\n",
      "MOI LOSS :: 0.6964451670646667\tMOI  ACC :: 0.4833333194255829\n",
      "MP  LOSS :: 0.33478984236717224\tMP   ACC :: 0.00011234537669224665\n",
      "LOSS     :: 0.33478984236717224\n",
      "Start 116 epoch\n"
     ]
    },
    {
     "name": "stderr",
     "output_type": "stream",
     "text": [
      "100%|██████████| 100/100 [02:48<00:00,  1.69s/it]\n"
     ]
    },
    {
     "name": "stdout",
     "output_type": "stream",
     "text": [
      "AOT LOSS :: 0.7027706503868103\tAOT  ACC :: 0.49666666984558105\n",
      "MOI LOSS :: 0.6964451670646667\tMOI  ACC :: 0.5266666412353516\n",
      "MP  LOSS :: 0.5468373894691467\tMP   ACC :: 4.6173096052370965e-05\n",
      "LOSS     :: 0.5468373894691467\n",
      "Start 117 epoch\n"
     ]
    },
    {
     "name": "stderr",
     "output_type": "stream",
     "text": [
      "100%|██████████| 100/100 [02:50<00:00,  1.71s/it]\n"
     ]
    },
    {
     "name": "stdout",
     "output_type": "stream",
     "text": [
      "AOT LOSS :: 0.7027706503868103\tAOT  ACC :: 0.49666666984558105\n",
      "MOI LOSS :: 0.6964451670646667\tMOI  ACC :: 0.5166666507720947\n",
      "MP  LOSS :: 1.754052758216858\tMP   ACC :: 0.00017418416973669082\n",
      "LOSS     :: 1.754052758216858\n",
      "Start 118 epoch\n"
     ]
    },
    {
     "name": "stderr",
     "output_type": "stream",
     "text": [
      "100%|██████████| 100/100 [02:42<00:00,  1.62s/it]\n"
     ]
    },
    {
     "name": "stdout",
     "output_type": "stream",
     "text": [
      "AOT LOSS :: 0.7027706503868103\tAOT  ACC :: 0.5\n",
      "MOI LOSS :: 0.6964451670646667\tMOI  ACC :: 0.49000000953674316\n",
      "MP  LOSS :: 1.3798460960388184\tMP   ACC :: 0.00025972494040615857\n",
      "LOSS     :: 1.3798460960388184\n",
      "Start 119 epoch\n"
     ]
    },
    {
     "name": "stderr",
     "output_type": "stream",
     "text": [
      "100%|██████████| 100/100 [02:56<00:00,  1.77s/it]\n"
     ]
    },
    {
     "name": "stdout",
     "output_type": "stream",
     "text": [
      "AOT LOSS :: 0.7027706503868103\tAOT  ACC :: 0.4633333384990692\n",
      "MOI LOSS :: 0.6964451670646667\tMOI  ACC :: 0.49666666984558105\n",
      "MP  LOSS :: 0.48311543464660645\tMP   ACC :: 9.823608706938103e-05\n",
      "LOSS     :: 0.48311543464660645\n",
      "Start 120 epoch\n"
     ]
    },
    {
     "name": "stderr",
     "output_type": "stream",
     "text": [
      "100%|██████████| 100/100 [02:56<00:00,  1.76s/it]\n"
     ]
    },
    {
     "name": "stdout",
     "output_type": "stream",
     "text": [
      "AOT LOSS :: 0.7027706503868103\tAOT  ACC :: 0.4300000071525574\n",
      "MOI LOSS :: 0.6964451670646667\tMOI  ACC :: 0.5133333206176758\n",
      "MP  LOSS :: 1.0130220651626587\tMP   ACC :: 0.0001061604853020981\n",
      "LOSS     :: 1.0130220651626587\n",
      "Start 121 epoch\n"
     ]
    },
    {
     "name": "stderr",
     "output_type": "stream",
     "text": [
      "100%|██████████| 100/100 [02:48<00:00,  1.68s/it]\n"
     ]
    },
    {
     "name": "stdout",
     "output_type": "stream",
     "text": [
      "AOT LOSS :: 0.7027706503868103\tAOT  ACC :: 0.46000000834465027\n",
      "MOI LOSS :: 0.6964451670646667\tMOI  ACC :: 0.47999998927116394\n",
      "MP  LOSS :: 0.6856215596199036\tMP   ACC :: 0.00013506063260138035\n",
      "LOSS     :: 0.6856215596199036\n",
      "Start 122 epoch\n"
     ]
    },
    {
     "name": "stderr",
     "output_type": "stream",
     "text": [
      "100%|██████████| 100/100 [02:47<00:00,  1.68s/it]\n"
     ]
    },
    {
     "name": "stdout",
     "output_type": "stream",
     "text": [
      "AOT LOSS :: 0.7027706503868103\tAOT  ACC :: 0.49666666984558105\n",
      "MOI LOSS :: 0.6964451670646667\tMOI  ACC :: 0.4466666579246521\n",
      "MP  LOSS :: 1.9182895421981812\tMP   ACC :: 0.00022311400971375406\n",
      "LOSS     :: 1.9182895421981812\n",
      "Start 123 epoch\n"
     ]
    },
    {
     "name": "stderr",
     "output_type": "stream",
     "text": [
      "100%|██████████| 100/100 [02:54<00:00,  1.74s/it]\n"
     ]
    },
    {
     "name": "stdout",
     "output_type": "stream",
     "text": [
      "AOT LOSS :: 0.7027706503868103\tAOT  ACC :: 0.47999998927116394\n",
      "MOI LOSS :: 0.6964451670646667\tMOI  ACC :: 0.47999998927116394\n",
      "MP  LOSS :: 0.9680500030517578\tMP   ACC :: 3.6814370105275884e-05\n",
      "LOSS     :: 0.9680500030517578\n",
      "Start 124 epoch\n"
     ]
    },
    {
     "name": "stderr",
     "output_type": "stream",
     "text": [
      "100%|██████████| 100/100 [02:49<00:00,  1.69s/it]\n"
     ]
    },
    {
     "name": "stdout",
     "output_type": "stream",
     "text": [
      "AOT LOSS :: 0.7027706503868103\tAOT  ACC :: 0.4866666793823242\n",
      "MOI LOSS :: 0.6964451670646667\tMOI  ACC :: 0.49666666984558105\n",
      "MP  LOSS :: 1.2726950645446777\tMP   ACC :: 0.00015471395454369485\n",
      "LOSS     :: 1.2726950645446777\n",
      "Start 125 epoch\n"
     ]
    },
    {
     "name": "stderr",
     "output_type": "stream",
     "text": [
      "100%|██████████| 100/100 [02:57<00:00,  1.78s/it]\n"
     ]
    },
    {
     "name": "stdout",
     "output_type": "stream",
     "text": [
      "AOT LOSS :: 0.7027706503868103\tAOT  ACC :: 0.5299999713897705\n",
      "MOI LOSS :: 0.6964451670646667\tMOI  ACC :: 0.5333333611488342\n",
      "MP  LOSS :: 1.1396492719650269\tMP   ACC :: 0.00015426635218318552\n",
      "LOSS     :: 1.1396492719650269\n",
      "Start 126 epoch\n"
     ]
    },
    {
     "name": "stderr",
     "output_type": "stream",
     "text": [
      "100%|██████████| 100/100 [02:59<00:00,  1.79s/it]\n"
     ]
    },
    {
     "name": "stdout",
     "output_type": "stream",
     "text": [
      "AOT LOSS :: 0.7027706503868103\tAOT  ACC :: 0.5\n",
      "MOI LOSS :: 0.6964451670646667\tMOI  ACC :: 0.5199999809265137\n",
      "MP  LOSS :: 20.904388427734375\tMP   ACC :: 9.309895540354773e-05\n",
      "LOSS     :: 20.904388427734375\n",
      "Start 127 epoch\n"
     ]
    },
    {
     "name": "stderr",
     "output_type": "stream",
     "text": [
      "100%|██████████| 100/100 [02:54<00:00,  1.74s/it]\n"
     ]
    },
    {
     "name": "stdout",
     "output_type": "stream",
     "text": [
      "AOT LOSS :: 0.7027706503868103\tAOT  ACC :: 0.5166666507720947\n",
      "MOI LOSS :: 0.6964451670646667\tMOI  ACC :: 0.5066666603088379\n",
      "MP  LOSS :: 2.507767677307129\tMP   ACC :: 0.00015386962331831455\n",
      "LOSS     :: 2.507767677307129\n",
      "Start 128 epoch\n"
     ]
    },
    {
     "name": "stderr",
     "output_type": "stream",
     "text": [
      "100%|██████████| 100/100 [02:50<00:00,  1.70s/it]\n"
     ]
    },
    {
     "name": "stdout",
     "output_type": "stream",
     "text": [
      "AOT LOSS :: 0.7027706503868103\tAOT  ACC :: 0.5433333516120911\n",
      "MOI LOSS :: 0.6964451670646667\tMOI  ACC :: 0.5433333516120911\n",
      "MP  LOSS :: 1.2873166799545288\tMP   ACC :: 7.668050238862634e-05\n",
      "LOSS     :: 1.2873166799545288\n",
      "Start 129 epoch\n"
     ]
    },
    {
     "name": "stderr",
     "output_type": "stream",
     "text": [
      "100%|██████████| 100/100 [02:46<00:00,  1.67s/it]\n"
     ]
    },
    {
     "name": "stdout",
     "output_type": "stream",
     "text": [
      "AOT LOSS :: 0.7027706503868103\tAOT  ACC :: 0.5266666412353516\n",
      "MOI LOSS :: 0.6964451670646667\tMOI  ACC :: 0.4399999976158142\n",
      "MP  LOSS :: 1.0736273527145386\tMP   ACC :: 0.0001590983010828495\n",
      "LOSS     :: 1.0736273527145386\n",
      "Start 130 epoch\n"
     ]
    },
    {
     "name": "stderr",
     "output_type": "stream",
     "text": [
      "100%|██████████| 100/100 [03:00<00:00,  1.81s/it]\n"
     ]
    },
    {
     "name": "stdout",
     "output_type": "stream",
     "text": [
      "AOT LOSS :: 0.7027706503868103\tAOT  ACC :: 0.5600000023841858\n",
      "MOI LOSS :: 0.6964451670646667\tMOI  ACC :: 0.54666668176651\n",
      "MP  LOSS :: 0.9973105788230896\tMP   ACC :: 0.00017886352725327015\n",
      "LOSS     :: 0.9973105788230896\n",
      "Start 131 epoch\n"
     ]
    },
    {
     "name": "stderr",
     "output_type": "stream",
     "text": [
      "100%|██████████| 100/100 [02:54<00:00,  1.74s/it]\n"
     ]
    },
    {
     "name": "stdout",
     "output_type": "stream",
     "text": [
      "AOT LOSS :: 0.7027706503868103\tAOT  ACC :: 0.503333330154419\n",
      "MOI LOSS :: 0.6964451670646667\tMOI  ACC :: 0.49666666984558105\n",
      "MP  LOSS :: 1.4334869384765625\tMP   ACC :: 0.0001323242177022621\n",
      "LOSS     :: 1.4334869384765625\n",
      "Start 132 epoch\n"
     ]
    },
    {
     "name": "stderr",
     "output_type": "stream",
     "text": [
      "100%|██████████| 100/100 [02:52<00:00,  1.72s/it]\n"
     ]
    },
    {
     "name": "stdout",
     "output_type": "stream",
     "text": [
      "AOT LOSS :: 0.7027706503868103\tAOT  ACC :: 0.476666659116745\n",
      "MOI LOSS :: 0.6964451670646667\tMOI  ACC :: 0.49666666984558105\n",
      "MP  LOSS :: 1.2133554220199585\tMP   ACC :: 0.00013355509145185351\n",
      "LOSS     :: 1.2133554220199585\n",
      "Start 133 epoch\n"
     ]
    },
    {
     "name": "stderr",
     "output_type": "stream",
     "text": [
      "100%|██████████| 100/100 [02:43<00:00,  1.64s/it]\n"
     ]
    },
    {
     "name": "stdout",
     "output_type": "stream",
     "text": [
      "AOT LOSS :: 0.7027706503868103\tAOT  ACC :: 0.47333332896232605\n",
      "MOI LOSS :: 0.6964451670646667\tMOI  ACC :: 0.4699999988079071\n",
      "MP  LOSS :: 0.6950969696044922\tMP   ACC :: 9.303792467107996e-05\n",
      "LOSS     :: 0.6950969696044922\n",
      "Start 134 epoch\n"
     ]
    },
    {
     "name": "stderr",
     "output_type": "stream",
     "text": [
      "100%|██████████| 100/100 [02:49<00:00,  1.69s/it]\n"
     ]
    },
    {
     "name": "stdout",
     "output_type": "stream",
     "text": [
      "AOT LOSS :: 0.7027706503868103\tAOT  ACC :: 0.4466666579246521\n",
      "MOI LOSS :: 0.6964451670646667\tMOI  ACC :: 0.5299999713897705\n",
      "MP  LOSS :: 0.9095296263694763\tMP   ACC :: 0.00021282958914525807\n",
      "LOSS     :: 0.9095296263694763\n",
      "Start 135 epoch\n"
     ]
    },
    {
     "name": "stderr",
     "output_type": "stream",
     "text": [
      "100%|██████████| 100/100 [02:46<00:00,  1.67s/it]\n"
     ]
    },
    {
     "name": "stdout",
     "output_type": "stream",
     "text": [
      "AOT LOSS :: 0.7027706503868103\tAOT  ACC :: 0.4633333384990692\n",
      "MOI LOSS :: 0.6964451670646667\tMOI  ACC :: 0.5400000214576721\n",
      "MP  LOSS :: 0.93619704246521\tMP   ACC :: 5.581665027420968e-05\n",
      "LOSS     :: 0.93619704246521\n",
      "Start 136 epoch\n"
     ]
    },
    {
     "name": "stderr",
     "output_type": "stream",
     "text": [
      "100%|██████████| 100/100 [02:54<00:00,  1.74s/it]\n"
     ]
    },
    {
     "name": "stdout",
     "output_type": "stream",
     "text": [
      "AOT LOSS :: 0.7027706503868103\tAOT  ACC :: 0.550000011920929\n",
      "MOI LOSS :: 0.6964451670646667\tMOI  ACC :: 0.4833333194255829\n",
      "MP  LOSS :: 3.532414674758911\tMP   ACC :: 8.308919495902956e-05\n",
      "LOSS     :: 3.532414674758911\n",
      "Start 137 epoch\n"
     ]
    },
    {
     "name": "stderr",
     "output_type": "stream",
     "text": [
      "100%|██████████| 100/100 [03:01<00:00,  1.82s/it]\n"
     ]
    },
    {
     "name": "stdout",
     "output_type": "stream",
     "text": [
      "AOT LOSS :: 0.7027706503868103\tAOT  ACC :: 0.47999998927116394\n",
      "MOI LOSS :: 0.6964451670646667\tMOI  ACC :: 0.5\n",
      "MP  LOSS :: 8.951505661010742\tMP   ACC :: 8.861287642503157e-05\n",
      "LOSS     :: 8.951505661010742\n",
      "Start 138 epoch\n"
     ]
    },
    {
     "name": "stderr",
     "output_type": "stream",
     "text": [
      "100%|██████████| 100/100 [02:55<00:00,  1.76s/it]\n"
     ]
    },
    {
     "name": "stdout",
     "output_type": "stream",
     "text": [
      "AOT LOSS :: 0.7027706503868103\tAOT  ACC :: 0.5233333110809326\n",
      "MOI LOSS :: 0.6964451670646667\tMOI  ACC :: 0.5400000214576721\n",
      "MP  LOSS :: 1.6083942651748657\tMP   ACC :: 9.460448927711695e-05\n",
      "LOSS     :: 1.6083942651748657\n",
      "Start 139 epoch\n"
     ]
    },
    {
     "name": "stderr",
     "output_type": "stream",
     "text": [
      "100%|██████████| 100/100 [02:44<00:00,  1.64s/it]\n"
     ]
    },
    {
     "name": "stdout",
     "output_type": "stream",
     "text": [
      "AOT LOSS :: 0.7027706503868103\tAOT  ACC :: 0.5133333206176758\n",
      "MOI LOSS :: 0.6964451670646667\tMOI  ACC :: 0.49000000953674316\n",
      "MP  LOSS :: 0.7332954406738281\tMP   ACC :: 0.00024542235769331455\n",
      "LOSS     :: 0.7332954406738281\n",
      "Start 140 epoch\n"
     ]
    },
    {
     "name": "stderr",
     "output_type": "stream",
     "text": [
      "100%|██████████| 100/100 [02:48<00:00,  1.69s/it]\n"
     ]
    },
    {
     "name": "stdout",
     "output_type": "stream",
     "text": [
      "AOT LOSS :: 0.7027706503868103\tAOT  ACC :: 0.46666666865348816\n",
      "MOI LOSS :: 0.6964451670646667\tMOI  ACC :: 0.5266666412353516\n",
      "MP  LOSS :: 1.9247745275497437\tMP   ACC :: 7.633463246747851e-05\n",
      "LOSS     :: 1.9247745275497437\n",
      "Start 141 epoch\n"
     ]
    },
    {
     "name": "stderr",
     "output_type": "stream",
     "text": [
      "100%|██████████| 100/100 [02:46<00:00,  1.67s/it]\n"
     ]
    },
    {
     "name": "stdout",
     "output_type": "stream",
     "text": [
      "AOT LOSS :: 0.7027706503868103\tAOT  ACC :: 0.5133333206176758\n",
      "MOI LOSS :: 0.6964451670646667\tMOI  ACC :: 0.4533333480358124\n",
      "MP  LOSS :: 1.1797572374343872\tMP   ACC :: 5.519612750504166e-05\n",
      "LOSS     :: 1.1797572374343872\n",
      "Start 142 epoch\n"
     ]
    },
    {
     "name": "stderr",
     "output_type": "stream",
     "text": [
      "100%|██████████| 100/100 [02:45<00:00,  1.66s/it]\n"
     ]
    },
    {
     "name": "stdout",
     "output_type": "stream",
     "text": [
      "AOT LOSS :: 0.7027706503868103\tAOT  ACC :: 0.5266666412353516\n",
      "MOI LOSS :: 0.6964451670646667\tMOI  ACC :: 0.49000000953674316\n",
      "MP  LOSS :: 1.051918864250183\tMP   ACC :: 0.0001533304894110188\n",
      "LOSS     :: 1.051918864250183\n",
      "Start 143 epoch\n"
     ]
    },
    {
     "name": "stderr",
     "output_type": "stream",
     "text": [
      "100%|██████████| 100/100 [02:55<00:00,  1.76s/it]\n"
     ]
    },
    {
     "name": "stdout",
     "output_type": "stream",
     "text": [
      "AOT LOSS :: 0.7027706503868103\tAOT  ACC :: 0.4833333194255829\n",
      "MOI LOSS :: 0.6964451670646667\tMOI  ACC :: 0.4866666793823242\n",
      "MP  LOSS :: 2.659928321838379\tMP   ACC :: 0.00011011759488610551\n",
      "LOSS     :: 2.659928321838379\n",
      "Start 144 epoch\n"
     ]
    },
    {
     "name": "stderr",
     "output_type": "stream",
     "text": [
      "100%|██████████| 100/100 [02:49<00:00,  1.69s/it]\n"
     ]
    },
    {
     "name": "stdout",
     "output_type": "stream",
     "text": [
      "AOT LOSS :: 0.7027706503868103\tAOT  ACC :: 0.5366666913032532\n",
      "MOI LOSS :: 0.6964451670646667\tMOI  ACC :: 0.47333332896232605\n",
      "MP  LOSS :: 1.1402982473373413\tMP   ACC :: 0.00011692301632137969\n",
      "LOSS     :: 1.1402982473373413\n",
      "Start 145 epoch\n"
     ]
    },
    {
     "name": "stderr",
     "output_type": "stream",
     "text": [
      "100%|██████████| 100/100 [02:55<00:00,  1.75s/it]\n"
     ]
    },
    {
     "name": "stdout",
     "output_type": "stream",
     "text": [
      "AOT LOSS :: 0.7027706503868103\tAOT  ACC :: 0.5233333110809326\n",
      "MOI LOSS :: 0.6964451670646667\tMOI  ACC :: 0.47333332896232605\n",
      "MP  LOSS :: 2.5642120838165283\tMP   ACC :: 8.742268983041868e-05\n",
      "LOSS     :: 2.5642120838165283\n",
      "Start 146 epoch\n"
     ]
    },
    {
     "name": "stderr",
     "output_type": "stream",
     "text": [
      "100%|██████████| 100/100 [02:45<00:00,  1.66s/it]\n"
     ]
    },
    {
     "name": "stdout",
     "output_type": "stream",
     "text": [
      "AOT LOSS :: 0.7027706503868103\tAOT  ACC :: 0.5\n",
      "MOI LOSS :: 0.6964451670646667\tMOI  ACC :: 0.5166666507720947\n",
      "MP  LOSS :: 2.8378207683563232\tMP   ACC :: 0.0001919250498758629\n",
      "LOSS     :: 2.8378207683563232\n",
      "Start 147 epoch\n"
     ]
    },
    {
     "name": "stderr",
     "output_type": "stream",
     "text": [
      "100%|██████████| 100/100 [02:50<00:00,  1.71s/it]\n"
     ]
    },
    {
     "name": "stdout",
     "output_type": "stream",
     "text": [
      "AOT LOSS :: 0.7027706503868103\tAOT  ACC :: 0.503333330154419\n",
      "MOI LOSS :: 0.6964451670646667\tMOI  ACC :: 0.5299999713897705\n",
      "MP  LOSS :: 0.5837543606758118\tMP   ACC :: 9.314982162322849e-05\n",
      "LOSS     :: 0.5837543606758118\n",
      "Start 148 epoch\n"
     ]
    },
    {
     "name": "stderr",
     "output_type": "stream",
     "text": [
      "100%|██████████| 100/100 [02:47<00:00,  1.67s/it]\n"
     ]
    },
    {
     "name": "stdout",
     "output_type": "stream",
     "text": [
      "AOT LOSS :: 0.7027706503868103\tAOT  ACC :: 0.49000000953674316\n",
      "MOI LOSS :: 0.6964451670646667\tMOI  ACC :: 0.5333333611488342\n",
      "MP  LOSS :: 1.571933388710022\tMP   ACC :: 5.086262899567373e-05\n",
      "LOSS     :: 1.571933388710022\n",
      "Start 149 epoch\n"
     ]
    },
    {
     "name": "stderr",
     "output_type": "stream",
     "text": [
      "100%|██████████| 100/100 [02:51<00:00,  1.72s/it]\n"
     ]
    },
    {
     "name": "stdout",
     "output_type": "stream",
     "text": [
      "AOT LOSS :: 0.7027706503868103\tAOT  ACC :: 0.4833333194255829\n",
      "MOI LOSS :: 0.6964451670646667\tMOI  ACC :: 0.4866666793823242\n",
      "MP  LOSS :: 1.44502592086792\tMP   ACC :: 0.00014971924247220159\n",
      "LOSS     :: 1.44502592086792\n",
      "Start 150 epoch\n"
     ]
    },
    {
     "name": "stderr",
     "output_type": "stream",
     "text": [
      "100%|██████████| 100/100 [02:36<00:00,  1.57s/it]\n"
     ]
    },
    {
     "name": "stdout",
     "output_type": "stream",
     "text": [
      "AOT LOSS :: 0.7027706503868103\tAOT  ACC :: 0.49666666984558105\n",
      "MOI LOSS :: 0.6964451670646667\tMOI  ACC :: 0.5099999904632568\n",
      "MP  LOSS :: 0.7132143378257751\tMP   ACC :: 0.0001675414969213307\n",
      "LOSS     :: 0.7132143378257751\n",
      "Start 151 epoch\n"
     ]
    },
    {
     "name": "stderr",
     "output_type": "stream",
     "text": [
      "100%|██████████| 100/100 [02:47<00:00,  1.68s/it]\n"
     ]
    },
    {
     "name": "stdout",
     "output_type": "stream",
     "text": [
      "AOT LOSS :: 0.7027706503868103\tAOT  ACC :: 0.5199999809265137\n",
      "MOI LOSS :: 0.6964451670646667\tMOI  ACC :: 0.5366666913032532\n",
      "MP  LOSS :: 2.096891403198242\tMP   ACC :: 0.0001009216284728609\n",
      "LOSS     :: 2.096891403198242\n",
      "Start 152 epoch\n"
     ]
    },
    {
     "name": "stderr",
     "output_type": "stream",
     "text": [
      "100%|██████████| 100/100 [02:54<00:00,  1.74s/it]\n"
     ]
    },
    {
     "name": "stdout",
     "output_type": "stream",
     "text": [
      "AOT LOSS :: 0.7027706503868103\tAOT  ACC :: 0.5333333611488342\n",
      "MOI LOSS :: 0.6964451670646667\tMOI  ACC :: 0.5199999809265137\n",
      "MP  LOSS :: 1.5186320543289185\tMP   ACC :: 0.0001220703125\n",
      "LOSS     :: 1.5186320543289185\n",
      "Start 153 epoch\n"
     ]
    },
    {
     "name": "stderr",
     "output_type": "stream",
     "text": [
      "100%|██████████| 100/100 [02:54<00:00,  1.74s/it]\n"
     ]
    },
    {
     "name": "stdout",
     "output_type": "stream",
     "text": [
      "AOT LOSS :: 0.7027706503868103\tAOT  ACC :: 0.5233333110809326\n",
      "MOI LOSS :: 0.6964451670646667\tMOI  ACC :: 0.5133333206176758\n",
      "MP  LOSS :: 0.7687088847160339\tMP   ACC :: 9.366861922899261e-05\n",
      "LOSS     :: 0.7687088847160339\n",
      "Start 154 epoch\n"
     ]
    },
    {
     "name": "stderr",
     "output_type": "stream",
     "text": [
      "100%|██████████| 100/100 [03:02<00:00,  1.83s/it]\n"
     ]
    },
    {
     "name": "stdout",
     "output_type": "stream",
     "text": [
      "AOT LOSS :: 0.7027706503868103\tAOT  ACC :: 0.4633333384990692\n",
      "MOI LOSS :: 0.6964451670646667\tMOI  ACC :: 0.44999998807907104\n",
      "MP  LOSS :: 1.1990514993667603\tMP   ACC :: 0.00010253905929857865\n",
      "LOSS     :: 1.1990514993667603\n",
      "Start 155 epoch\n"
     ]
    },
    {
     "name": "stderr",
     "output_type": "stream",
     "text": [
      "100%|██████████| 100/100 [02:54<00:00,  1.74s/it]\n"
     ]
    },
    {
     "name": "stdout",
     "output_type": "stream",
     "text": [
      "AOT LOSS :: 0.7027706503868103\tAOT  ACC :: 0.5233333110809326\n",
      "MOI LOSS :: 0.6964451670646667\tMOI  ACC :: 0.47999998927116394\n",
      "MP  LOSS :: 1.3551706075668335\tMP   ACC :: 0.00011282348714303225\n",
      "LOSS     :: 1.3551706075668335\n",
      "Start 156 epoch\n"
     ]
    },
    {
     "name": "stderr",
     "output_type": "stream",
     "text": [
      "100%|██████████| 100/100 [02:34<00:00,  1.55s/it]\n"
     ]
    },
    {
     "name": "stdout",
     "output_type": "stream",
     "text": [
      "AOT LOSS :: 0.7027706503868103\tAOT  ACC :: 0.5366666913032532\n",
      "MOI LOSS :: 0.6964451670646667\tMOI  ACC :: 0.550000011920929\n",
      "MP  LOSS :: 0.4550458490848541\tMP   ACC :: 0.0002788798010442406\n",
      "LOSS     :: 0.4550458490848541\n",
      "Start 157 epoch\n"
     ]
    },
    {
     "name": "stderr",
     "output_type": "stream",
     "text": [
      "100%|██████████| 100/100 [02:47<00:00,  1.67s/it]\n"
     ]
    },
    {
     "name": "stdout",
     "output_type": "stream",
     "text": [
      "AOT LOSS :: 0.7027706503868103\tAOT  ACC :: 0.476666659116745\n",
      "MOI LOSS :: 0.6964451670646667\tMOI  ACC :: 0.5299999713897705\n",
      "MP  LOSS :: 2.2135798931121826\tMP   ACC :: 9.563191997585818e-05\n",
      "LOSS     :: 2.2135798931121826\n",
      "Start 158 epoch\n"
     ]
    },
    {
     "name": "stderr",
     "output_type": "stream",
     "text": [
      "100%|██████████| 100/100 [02:58<00:00,  1.79s/it]\n"
     ]
    },
    {
     "name": "stdout",
     "output_type": "stream",
     "text": [
      "AOT LOSS :: 0.7027706503868103\tAOT  ACC :: 0.5299999713897705\n",
      "MOI LOSS :: 0.6964451670646667\tMOI  ACC :: 0.47999998927116394\n",
      "MP  LOSS :: 1.0674264430999756\tMP   ACC :: 0.0001293640088988468\n",
      "LOSS     :: 1.0674264430999756\n",
      "Start 159 epoch\n"
     ]
    },
    {
     "name": "stderr",
     "output_type": "stream",
     "text": [
      "100%|██████████| 100/100 [02:56<00:00,  1.76s/it]\n"
     ]
    },
    {
     "name": "stdout",
     "output_type": "stream",
     "text": [
      "AOT LOSS :: 0.7027706503868103\tAOT  ACC :: 0.5266666412353516\n",
      "MOI LOSS :: 0.6964451670646667\tMOI  ACC :: 0.476666659116745\n",
      "MP  LOSS :: 1.8113545179367065\tMP   ACC :: 7.892862777225673e-05\n",
      "LOSS     :: 1.8113545179367065\n",
      "Start 160 epoch\n"
     ]
    },
    {
     "name": "stderr",
     "output_type": "stream",
     "text": [
      "100%|██████████| 100/100 [02:53<00:00,  1.74s/it]\n"
     ]
    },
    {
     "name": "stdout",
     "output_type": "stream",
     "text": [
      "AOT LOSS :: 0.7027706503868103\tAOT  ACC :: 0.47999998927116394\n",
      "MOI LOSS :: 0.6964451670646667\tMOI  ACC :: 0.5299999713897705\n",
      "MP  LOSS :: 0.7024223208427429\tMP   ACC :: 7.954915054142475e-05\n",
      "LOSS     :: 0.7024223208427429\n",
      "Start 161 epoch\n"
     ]
    },
    {
     "name": "stderr",
     "output_type": "stream",
     "text": [
      "100%|██████████| 100/100 [02:42<00:00,  1.63s/it]\n"
     ]
    },
    {
     "name": "stdout",
     "output_type": "stream",
     "text": [
      "AOT LOSS :: 0.7027706503868103\tAOT  ACC :: 0.4633333384990692\n",
      "MOI LOSS :: 0.6964451670646667\tMOI  ACC :: 0.503333330154419\n",
      "MP  LOSS :: 0.7217105031013489\tMP   ACC :: 0.00015549722593277693\n",
      "LOSS     :: 0.7217105031013489\n",
      "Start 162 epoch\n"
     ]
    },
    {
     "name": "stderr",
     "output_type": "stream",
     "text": [
      "100%|██████████| 100/100 [02:52<00:00,  1.72s/it]\n"
     ]
    },
    {
     "name": "stdout",
     "output_type": "stream",
     "text": [
      "AOT LOSS :: 0.7027706503868103\tAOT  ACC :: 0.46000000834465027\n",
      "MOI LOSS :: 0.6964451670646667\tMOI  ACC :: 0.5266666412353516\n",
      "MP  LOSS :: 1.7762174606323242\tMP   ACC :: 0.0001300048897974193\n",
      "LOSS     :: 1.7762174606323242\n",
      "Start 163 epoch\n"
     ]
    },
    {
     "name": "stderr",
     "output_type": "stream",
     "text": [
      "100%|██████████| 100/100 [02:51<00:00,  1.72s/it]\n"
     ]
    },
    {
     "name": "stdout",
     "output_type": "stream",
     "text": [
      "AOT LOSS :: 0.7027706503868103\tAOT  ACC :: 0.550000011920929\n",
      "MOI LOSS :: 0.6964451670646667\tMOI  ACC :: 0.49666666984558105\n",
      "MP  LOSS :: 1.6040905714035034\tMP   ACC :: 9.590657282387838e-05\n",
      "LOSS     :: 1.6040905714035034\n",
      "Start 164 epoch\n"
     ]
    },
    {
     "name": "stderr",
     "output_type": "stream",
     "text": [
      "100%|██████████| 100/100 [02:52<00:00,  1.73s/it]\n"
     ]
    },
    {
     "name": "stdout",
     "output_type": "stream",
     "text": [
      "AOT LOSS :: 0.7027706503868103\tAOT  ACC :: 0.5366666913032532\n",
      "MOI LOSS :: 0.6964451670646667\tMOI  ACC :: 0.5\n",
      "MP  LOSS :: 2.249938726425171\tMP   ACC :: 5.11576326971408e-05\n",
      "LOSS     :: 2.249938726425171\n",
      "Start 165 epoch\n"
     ]
    },
    {
     "name": "stderr",
     "output_type": "stream",
     "text": [
      "100%|██████████| 100/100 [02:40<00:00,  1.61s/it]\n"
     ]
    },
    {
     "name": "stdout",
     "output_type": "stream",
     "text": [
      "AOT LOSS :: 0.7027706503868103\tAOT  ACC :: 0.4566666781902313\n",
      "MOI LOSS :: 0.6964451670646667\tMOI  ACC :: 0.4633333384990692\n",
      "MP  LOSS :: 0.3823421001434326\tMP   ACC :: 5.4840089433128014e-05\n",
      "LOSS     :: 0.3823421001434326\n",
      "Start 166 epoch\n"
     ]
    },
    {
     "name": "stderr",
     "output_type": "stream",
     "text": [
      "100%|██████████| 100/100 [02:48<00:00,  1.68s/it]\n"
     ]
    },
    {
     "name": "stdout",
     "output_type": "stream",
     "text": [
      "AOT LOSS :: 0.7027706503868103\tAOT  ACC :: 0.5066666603088379\n",
      "MOI LOSS :: 0.6964451670646667\tMOI  ACC :: 0.5166666507720947\n",
      "MP  LOSS :: 1.6590014696121216\tMP   ACC :: 3.55936681444291e-05\n",
      "LOSS     :: 1.6590014696121216\n",
      "Start 167 epoch\n"
     ]
    },
    {
     "name": "stderr",
     "output_type": "stream",
     "text": [
      "100%|██████████| 100/100 [02:45<00:00,  1.66s/it]\n"
     ]
    },
    {
     "name": "stdout",
     "output_type": "stream",
     "text": [
      "AOT LOSS :: 0.7027706503868103\tAOT  ACC :: 0.5633333325386047\n",
      "MOI LOSS :: 0.6964451670646667\tMOI  ACC :: 0.4633333384990692\n",
      "MP  LOSS :: 0.936887800693512\tMP   ACC :: 7.546997221652418e-05\n",
      "LOSS     :: 0.936887800693512\n",
      "Start 168 epoch\n"
     ]
    },
    {
     "name": "stderr",
     "output_type": "stream",
     "text": [
      "100%|██████████| 100/100 [02:55<00:00,  1.76s/it]\n"
     ]
    },
    {
     "name": "stdout",
     "output_type": "stream",
     "text": [
      "AOT LOSS :: 0.7027706503868103\tAOT  ACC :: 0.5\n",
      "MOI LOSS :: 0.6964451670646667\tMOI  ACC :: 0.46666666865348816\n",
      "MP  LOSS :: 28.62447166442871\tMP   ACC :: 5.462646367959678e-05\n",
      "LOSS     :: 28.62447166442871\n",
      "Start 169 epoch\n"
     ]
    },
    {
     "name": "stderr",
     "output_type": "stream",
     "text": [
      "100%|██████████| 100/100 [02:46<00:00,  1.67s/it]\n"
     ]
    },
    {
     "name": "stdout",
     "output_type": "stream",
     "text": [
      "AOT LOSS :: 0.7027706503868103\tAOT  ACC :: 0.4866666793823242\n",
      "MOI LOSS :: 0.6964451670646667\tMOI  ACC :: 0.5366666913032532\n",
      "MP  LOSS :: 0.17769812047481537\tMP   ACC :: 6.74743641866371e-05\n",
      "LOSS     :: 0.17769812047481537\n",
      "Start 170 epoch\n"
     ]
    },
    {
     "name": "stderr",
     "output_type": "stream",
     "text": [
      "100%|██████████| 100/100 [02:46<00:00,  1.66s/it]\n"
     ]
    },
    {
     "name": "stdout",
     "output_type": "stream",
     "text": [
      "AOT LOSS :: 0.7027706503868103\tAOT  ACC :: 0.550000011920929\n",
      "MOI LOSS :: 0.6964451670646667\tMOI  ACC :: 0.4566666781902313\n",
      "MP  LOSS :: 1.4721980094909668\tMP   ACC :: 6.561279587913305e-05\n",
      "LOSS     :: 1.4721980094909668\n",
      "Start 171 epoch\n"
     ]
    },
    {
     "name": "stderr",
     "output_type": "stream",
     "text": [
      "100%|██████████| 100/100 [02:38<00:00,  1.59s/it]\n"
     ]
    },
    {
     "name": "stdout",
     "output_type": "stream",
     "text": [
      "AOT LOSS :: 0.7027706503868103\tAOT  ACC :: 0.476666659116745\n",
      "MOI LOSS :: 0.6964451670646667\tMOI  ACC :: 0.4699999988079071\n",
      "MP  LOSS :: 0.8582596182823181\tMP   ACC :: 0.0001821899350034073\n",
      "LOSS     :: 0.8582596182823181\n",
      "Start 172 epoch\n"
     ]
    },
    {
     "name": "stderr",
     "output_type": "stream",
     "text": [
      "100%|██████████| 100/100 [02:54<00:00,  1.74s/it]\n"
     ]
    },
    {
     "name": "stdout",
     "output_type": "stream",
     "text": [
      "AOT LOSS :: 0.7027706503868103\tAOT  ACC :: 0.5533333420753479\n",
      "MOI LOSS :: 0.6964451670646667\tMOI  ACC :: 0.4833333194255829\n",
      "MP  LOSS :: 3.054945707321167\tMP   ACC :: 7.565307896584272e-05\n",
      "LOSS     :: 3.054945707321167\n",
      "Start 173 epoch\n"
     ]
    },
    {
     "name": "stderr",
     "output_type": "stream",
     "text": [
      "100%|██████████| 100/100 [03:05<00:00,  1.85s/it]\n"
     ]
    },
    {
     "name": "stdout",
     "output_type": "stream",
     "text": [
      "AOT LOSS :: 0.7027706503868103\tAOT  ACC :: 0.5199999809265137\n",
      "MOI LOSS :: 0.6964451670646667\tMOI  ACC :: 0.49666666984558105\n",
      "MP  LOSS :: 3.294736862182617\tMP   ACC :: 4.425048700795742e-06\n",
      "LOSS     :: 3.294736862182617\n",
      "Start 174 epoch\n"
     ]
    },
    {
     "name": "stderr",
     "output_type": "stream",
     "text": [
      "100%|██████████| 100/100 [03:02<00:00,  1.82s/it]\n"
     ]
    },
    {
     "name": "stdout",
     "output_type": "stream",
     "text": [
      "AOT LOSS :: 0.7027706503868103\tAOT  ACC :: 0.4933333396911621\n",
      "MOI LOSS :: 0.6964451670646667\tMOI  ACC :: 0.5166666507720947\n",
      "MP  LOSS :: 0.13861890137195587\tMP   ACC :: 6.465657497756183e-05\n",
      "LOSS     :: 0.13861890137195587\n",
      "Start 175 epoch\n"
     ]
    },
    {
     "name": "stderr",
     "output_type": "stream",
     "text": [
      "100%|██████████| 100/100 [03:03<00:00,  1.84s/it]\n"
     ]
    },
    {
     "name": "stdout",
     "output_type": "stream",
     "text": [
      "AOT LOSS :: 0.7027706503868103\tAOT  ACC :: 0.46666666865348816\n",
      "MOI LOSS :: 0.6964451670646667\tMOI  ACC :: 0.5\n",
      "MP  LOSS :: 1.3262698650360107\tMP   ACC :: 6.313069752650335e-05\n",
      "LOSS     :: 1.3262698650360107\n",
      "Start 176 epoch\n"
     ]
    },
    {
     "name": "stderr",
     "output_type": "stream",
     "text": [
      "100%|██████████| 100/100 [02:57<00:00,  1.77s/it]\n"
     ]
    },
    {
     "name": "stdout",
     "output_type": "stream",
     "text": [
      "AOT LOSS :: 0.7027706503868103\tAOT  ACC :: 0.4633333384990692\n",
      "MOI LOSS :: 0.6964451670646667\tMOI  ACC :: 0.503333330154419\n",
      "MP  LOSS :: 29.566747665405273\tMP   ACC :: 6.213378946995363e-05\n",
      "LOSS     :: 29.566747665405273\n",
      "Start 177 epoch\n"
     ]
    },
    {
     "name": "stderr",
     "output_type": "stream",
     "text": [
      "100%|██████████| 100/100 [02:54<00:00,  1.75s/it]\n"
     ]
    },
    {
     "name": "stdout",
     "output_type": "stream",
     "text": [
      "AOT LOSS :: 0.7027706503868103\tAOT  ACC :: 0.46000000834465027\n",
      "MOI LOSS :: 0.6964451670646667\tMOI  ACC :: 0.5333333611488342\n",
      "MP  LOSS :: 19.28877830505371\tMP   ACC :: 7.751465091132559e-06\n",
      "LOSS     :: 19.28877830505371\n",
      "Start 178 epoch\n"
     ]
    },
    {
     "name": "stderr",
     "output_type": "stream",
     "text": [
      "100%|██████████| 100/100 [02:53<00:00,  1.73s/it]\n"
     ]
    },
    {
     "name": "stdout",
     "output_type": "stream",
     "text": [
      "AOT LOSS :: 0.7027706503868103\tAOT  ACC :: 0.4933333396911621\n",
      "MOI LOSS :: 0.6964451670646667\tMOI  ACC :: 0.5333333611488342\n",
      "MP  LOSS :: 0.5229584574699402\tMP   ACC :: 5.875651186215691e-05\n",
      "LOSS     :: 0.5229584574699402\n",
      "Start 179 epoch\n"
     ]
    },
    {
     "name": "stderr",
     "output_type": "stream",
     "text": [
      "100%|██████████| 100/100 [02:55<00:00,  1.75s/it]\n"
     ]
    },
    {
     "name": "stdout",
     "output_type": "stream",
     "text": [
      "AOT LOSS :: 0.7027706503868103\tAOT  ACC :: 0.5233333110809326\n",
      "MOI LOSS :: 0.6964451670646667\tMOI  ACC :: 0.5266666412353516\n",
      "MP  LOSS :: 3.5761520862579346\tMP   ACC :: 3.839111377601512e-05\n",
      "LOSS     :: 3.5761520862579346\n",
      "Start 180 epoch\n"
     ]
    },
    {
     "name": "stderr",
     "output_type": "stream",
     "text": [
      "100%|██████████| 100/100 [03:00<00:00,  1.80s/it]\n"
     ]
    },
    {
     "name": "stdout",
     "output_type": "stream",
     "text": [
      "AOT LOSS :: 0.7027706503868103\tAOT  ACC :: 0.46666666865348816\n",
      "MOI LOSS :: 0.6964451670646667\tMOI  ACC :: 0.5299999713897705\n",
      "MP  LOSS :: 2.4692273139953613\tMP   ACC :: 7.616170478286222e-05\n",
      "LOSS     :: 2.4692273139953613\n",
      "Start 181 epoch\n"
     ]
    },
    {
     "name": "stderr",
     "output_type": "stream",
     "text": [
      "100%|██████████| 100/100 [02:52<00:00,  1.73s/it]\n"
     ]
    },
    {
     "name": "stdout",
     "output_type": "stream",
     "text": [
      "AOT LOSS :: 0.7027706503868103\tAOT  ACC :: 0.503333330154419\n",
      "MOI LOSS :: 0.6964451670646667\tMOI  ACC :: 0.5099999904632568\n",
      "MP  LOSS :: 1.1050758361816406\tMP   ACC :: 0.00012972005060873926\n",
      "LOSS     :: 1.1050758361816406\n",
      "Start 182 epoch\n"
     ]
    },
    {
     "name": "stderr",
     "output_type": "stream",
     "text": [
      "100%|██████████| 100/100 [02:56<00:00,  1.76s/it]\n"
     ]
    },
    {
     "name": "stdout",
     "output_type": "stream",
     "text": [
      "AOT LOSS :: 0.7027706503868103\tAOT  ACC :: 0.503333330154419\n",
      "MOI LOSS :: 0.6964451670646667\tMOI  ACC :: 0.46000000834465027\n",
      "MP  LOSS :: 1.5096688270568848\tMP   ACC :: 6.555175787070766e-05\n",
      "LOSS     :: 1.5096688270568848\n",
      "Start 183 epoch\n"
     ]
    },
    {
     "name": "stderr",
     "output_type": "stream",
     "text": [
      "100%|██████████| 100/100 [02:45<00:00,  1.66s/it]\n"
     ]
    },
    {
     "name": "stdout",
     "output_type": "stream",
     "text": [
      "AOT LOSS :: 0.7027706503868103\tAOT  ACC :: 0.4833333194255829\n",
      "MOI LOSS :: 0.6964451670646667\tMOI  ACC :: 0.47333332896232605\n",
      "MP  LOSS :: 0.6079338192939758\tMP   ACC :: 9.060669253813103e-05\n",
      "LOSS     :: 0.6079338192939758\n",
      "Start 184 epoch\n"
     ]
    },
    {
     "name": "stderr",
     "output_type": "stream",
     "text": [
      "100%|██████████| 100/100 [02:51<00:00,  1.72s/it]\n"
     ]
    },
    {
     "name": "stdout",
     "output_type": "stream",
     "text": [
      "AOT LOSS :: 0.7027706503868103\tAOT  ACC :: 0.44333332777023315\n",
      "MOI LOSS :: 0.6964451670646667\tMOI  ACC :: 0.5266666412353516\n",
      "MP  LOSS :: 2.2358384132385254\tMP   ACC :: 0.00011220296437386423\n",
      "LOSS     :: 2.2358384132385254\n",
      "Start 185 epoch\n"
     ]
    },
    {
     "name": "stderr",
     "output_type": "stream",
     "text": [
      "100%|██████████| 100/100 [02:44<00:00,  1.65s/it]\n"
     ]
    },
    {
     "name": "stdout",
     "output_type": "stream",
     "text": [
      "AOT LOSS :: 0.7027706503868103\tAOT  ACC :: 0.5099999904632568\n",
      "MOI LOSS :: 0.6964451670646667\tMOI  ACC :: 0.5400000214576721\n",
      "MP  LOSS :: 0.5823943614959717\tMP   ACC :: 0.0001489766436861828\n",
      "LOSS     :: 0.5823943614959717\n",
      "Start 186 epoch\n"
     ]
    },
    {
     "name": "stderr",
     "output_type": "stream",
     "text": [
      "100%|██████████| 100/100 [02:41<00:00,  1.61s/it]\n"
     ]
    },
    {
     "name": "stdout",
     "output_type": "stream",
     "text": [
      "AOT LOSS :: 0.7027706503868103\tAOT  ACC :: 0.46666666865348816\n",
      "MOI LOSS :: 0.6964451670646667\tMOI  ACC :: 0.5299999713897705\n",
      "MP  LOSS :: 1.9837497472763062\tMP   ACC :: 2.1687825210392475e-05\n",
      "LOSS     :: 1.9837497472763062\n",
      "Start 187 epoch\n"
     ]
    },
    {
     "name": "stderr",
     "output_type": "stream",
     "text": [
      "100%|██████████| 100/100 [02:41<00:00,  1.61s/it]\n"
     ]
    },
    {
     "name": "stdout",
     "output_type": "stream",
     "text": [
      "AOT LOSS :: 0.7027706503868103\tAOT  ACC :: 0.5766666531562805\n",
      "MOI LOSS :: 0.6964451670646667\tMOI  ACC :: 0.47333332896232605\n",
      "MP  LOSS :: 1.6798328161239624\tMP   ACC :: 7.295735849766061e-05\n",
      "LOSS     :: 1.6798328161239624\n",
      "Start 188 epoch\n"
     ]
    },
    {
     "name": "stderr",
     "output_type": "stream",
     "text": [
      "100%|██████████| 100/100 [03:02<00:00,  1.83s/it]\n"
     ]
    },
    {
     "name": "stdout",
     "output_type": "stream",
     "text": [
      "AOT LOSS :: 0.7027706503868103\tAOT  ACC :: 0.4699999988079071\n",
      "MOI LOSS :: 0.6964451670646667\tMOI  ACC :: 0.5400000214576721\n",
      "MP  LOSS :: 0.6334139704704285\tMP   ACC :: 8.097331010503694e-05\n",
      "LOSS     :: 0.6334139704704285\n",
      "Start 189 epoch\n"
     ]
    },
    {
     "name": "stderr",
     "output_type": "stream",
     "text": [
      "100%|██████████| 100/100 [02:54<00:00,  1.75s/it]\n"
     ]
    },
    {
     "name": "stdout",
     "output_type": "stream",
     "text": [
      "AOT LOSS :: 0.7027706503868103\tAOT  ACC :: 0.47333332896232605\n",
      "MOI LOSS :: 0.6964451670646667\tMOI  ACC :: 0.49666666984558105\n",
      "MP  LOSS :: 2.552414655685425\tMP   ACC :: 3.2196043321164325e-05\n",
      "LOSS     :: 2.552414655685425\n",
      "Start 190 epoch\n"
     ]
    },
    {
     "name": "stderr",
     "output_type": "stream",
     "text": [
      "100%|██████████| 100/100 [02:50<00:00,  1.71s/it]\n"
     ]
    },
    {
     "name": "stdout",
     "output_type": "stream",
     "text": [
      "AOT LOSS :: 0.7027706503868103\tAOT  ACC :: 0.5600000023841858\n",
      "MOI LOSS :: 0.6964451670646667\tMOI  ACC :: 0.5533333420753479\n",
      "MP  LOSS :: 1.704856038093567\tMP   ACC :: 5.971272912574932e-05\n",
      "LOSS     :: 1.704856038093567\n",
      "Start 191 epoch\n"
     ]
    },
    {
     "name": "stderr",
     "output_type": "stream",
     "text": [
      "100%|██████████| 100/100 [02:48<00:00,  1.68s/it]\n"
     ]
    },
    {
     "name": "stdout",
     "output_type": "stream",
     "text": [
      "AOT LOSS :: 0.7027706503868103\tAOT  ACC :: 0.5533333420753479\n",
      "MOI LOSS :: 0.6964451670646667\tMOI  ACC :: 0.54666668176651\n",
      "MP  LOSS :: 1.3259235620498657\tMP   ACC :: 6.374104850692675e-05\n",
      "LOSS     :: 1.3259235620498657\n",
      "Start 192 epoch\n"
     ]
    },
    {
     "name": "stderr",
     "output_type": "stream",
     "text": [
      "100%|██████████| 100/100 [02:53<00:00,  1.73s/it]\n"
     ]
    },
    {
     "name": "stdout",
     "output_type": "stream",
     "text": [
      "AOT LOSS :: 0.7027706503868103\tAOT  ACC :: 0.5266666412353516\n",
      "MOI LOSS :: 0.6964451670646667\tMOI  ACC :: 0.5099999904632568\n",
      "MP  LOSS :: 1.2225435972213745\tMP   ACC :: 0.0001164855930255726\n",
      "LOSS     :: 1.2225435972213745\n",
      "Start 193 epoch\n"
     ]
    },
    {
     "name": "stderr",
     "output_type": "stream",
     "text": [
      "100%|██████████| 100/100 [02:53<00:00,  1.74s/it]\n"
     ]
    },
    {
     "name": "stdout",
     "output_type": "stream",
     "text": [
      "AOT LOSS :: 0.7027706503868103\tAOT  ACC :: 0.47999998927116394\n",
      "MOI LOSS :: 0.6964451670646667\tMOI  ACC :: 0.5133333206176758\n",
      "MP  LOSS :: 0.7732295989990234\tMP   ACC :: 0.0001285807229578495\n",
      "LOSS     :: 0.7732295989990234\n",
      "Start 194 epoch\n"
     ]
    },
    {
     "name": "stderr",
     "output_type": "stream",
     "text": [
      "100%|██████████| 100/100 [02:57<00:00,  1.77s/it]\n"
     ]
    },
    {
     "name": "stdout",
     "output_type": "stream",
     "text": [
      "AOT LOSS :: 0.7027706503868103\tAOT  ACC :: 0.4933333396911621\n",
      "MOI LOSS :: 0.6964451670646667\tMOI  ACC :: 0.4833333194255829\n",
      "MP  LOSS :: 0.8388071060180664\tMP   ACC :: 5.7810466387309134e-05\n",
      "LOSS     :: 0.8388071060180664\n",
      "Start 195 epoch\n"
     ]
    },
    {
     "name": "stderr",
     "output_type": "stream",
     "text": [
      "100%|██████████| 100/100 [02:58<00:00,  1.78s/it]\n"
     ]
    },
    {
     "name": "stdout",
     "output_type": "stream",
     "text": [
      "AOT LOSS :: 0.7027706503868103\tAOT  ACC :: 0.5400000214576721\n",
      "MOI LOSS :: 0.6964451670646667\tMOI  ACC :: 0.4699999988079071\n",
      "MP  LOSS :: 0.5750741362571716\tMP   ACC :: 6.153361027827486e-05\n",
      "LOSS     :: 0.5750741362571716\n",
      "Start 196 epoch\n"
     ]
    },
    {
     "name": "stderr",
     "output_type": "stream",
     "text": [
      "100%|██████████| 100/100 [02:57<00:00,  1.77s/it]\n"
     ]
    },
    {
     "name": "stdout",
     "output_type": "stream",
     "text": [
      "AOT LOSS :: 0.7027706503868103\tAOT  ACC :: 0.49666666984558105\n",
      "MOI LOSS :: 0.6964451670646667\tMOI  ACC :: 0.5133333206176758\n",
      "MP  LOSS :: 0.44089826941490173\tMP   ACC :: 3.1433104595635086e-05\n",
      "LOSS     :: 0.44089826941490173\n",
      "Start 197 epoch\n"
     ]
    },
    {
     "name": "stderr",
     "output_type": "stream",
     "text": [
      "100%|██████████| 100/100 [02:49<00:00,  1.70s/it]\n"
     ]
    },
    {
     "name": "stdout",
     "output_type": "stream",
     "text": [
      "AOT LOSS :: 0.7027706503868103\tAOT  ACC :: 0.49000000953674316\n",
      "MOI LOSS :: 0.6964451670646667\tMOI  ACC :: 0.49666666984558105\n",
      "MP  LOSS :: 1.1148940324783325\tMP   ACC :: 4.0944418287836015e-05\n",
      "LOSS     :: 1.1148940324783325\n",
      "Start 198 epoch\n"
     ]
    },
    {
     "name": "stderr",
     "output_type": "stream",
     "text": [
      "100%|██████████| 100/100 [02:46<00:00,  1.66s/it]\n"
     ]
    },
    {
     "name": "stdout",
     "output_type": "stream",
     "text": [
      "AOT LOSS :: 0.7027706503868103\tAOT  ACC :: 0.49000000953674316\n",
      "MOI LOSS :: 0.6964451670646667\tMOI  ACC :: 0.46666666865348816\n",
      "MP  LOSS :: 2.7894980907440186\tMP   ACC :: 0.00010744221799541265\n",
      "LOSS     :: 2.7894980907440186\n",
      "Start 199 epoch\n"
     ]
    },
    {
     "name": "stderr",
     "output_type": "stream",
     "text": [
      "100%|██████████| 100/100 [02:37<00:00,  1.58s/it]\n"
     ]
    },
    {
     "name": "stdout",
     "output_type": "stream",
     "text": [
      "AOT LOSS :: 0.7027706503868103\tAOT  ACC :: 0.4399999976158142\n",
      "MOI LOSS :: 0.6964451670646667\tMOI  ACC :: 0.47999998927116394\n",
      "MP  LOSS :: 2.3218395709991455\tMP   ACC :: 0.00023542277631349862\n",
      "LOSS     :: 2.3218395709991455\n",
      "Start 200 epoch\n"
     ]
    },
    {
     "name": "stderr",
     "output_type": "stream",
     "text": [
      "100%|██████████| 100/100 [02:56<00:00,  1.76s/it]\n"
     ]
    },
    {
     "name": "stdout",
     "output_type": "stream",
     "text": [
      "AOT LOSS :: 0.7027706503868103\tAOT  ACC :: 0.47999998927116394\n",
      "MOI LOSS :: 0.6964451670646667\tMOI  ACC :: 0.4833333194255829\n",
      "MP  LOSS :: 0.5596056580543518\tMP   ACC :: 0.00012801107368431985\n",
      "LOSS     :: 0.5596056580543518\n",
      "Start 201 epoch\n"
     ]
    },
    {
     "name": "stderr",
     "output_type": "stream",
     "text": [
      "100%|██████████| 100/100 [03:01<00:00,  1.82s/it]\n"
     ]
    },
    {
     "name": "stdout",
     "output_type": "stream",
     "text": [
      "AOT LOSS :: 0.7027706503868103\tAOT  ACC :: 0.5333333611488342\n",
      "MOI LOSS :: 0.6964451670646667\tMOI  ACC :: 0.46666666865348816\n",
      "MP  LOSS :: 0.6923242211341858\tMP   ACC :: 7.565307896584272e-05\n",
      "LOSS     :: 0.6923242211341858\n",
      "Start 202 epoch\n"
     ]
    },
    {
     "name": "stderr",
     "output_type": "stream",
     "text": [
      "100%|██████████| 100/100 [02:41<00:00,  1.62s/it]\n"
     ]
    },
    {
     "name": "stdout",
     "output_type": "stream",
     "text": [
      "AOT LOSS :: 0.7027706503868103\tAOT  ACC :: 0.5400000214576721\n",
      "MOI LOSS :: 0.6964451670646667\tMOI  ACC :: 0.5133333206176758\n",
      "MP  LOSS :: 0.6010878682136536\tMP   ACC :: 5.755615347879939e-05\n",
      "LOSS     :: 0.6010878682136536\n",
      "Start 203 epoch\n"
     ]
    },
    {
     "name": "stderr",
     "output_type": "stream",
     "text": [
      "100%|██████████| 100/100 [02:57<00:00,  1.77s/it]\n"
     ]
    },
    {
     "name": "stdout",
     "output_type": "stream",
     "text": [
      "AOT LOSS :: 0.7027706503868103\tAOT  ACC :: 0.5\n",
      "MOI LOSS :: 0.6964451670646667\tMOI  ACC :: 0.5433333516120911\n",
      "MP  LOSS :: 1.175007700920105\tMP   ACC :: 5.7495115470374e-05\n",
      "LOSS     :: 1.175007700920105\n",
      "Start 204 epoch\n"
     ]
    },
    {
     "name": "stderr",
     "output_type": "stream",
     "text": [
      "100%|██████████| 100/100 [02:51<00:00,  1.71s/it]\n"
     ]
    },
    {
     "name": "stdout",
     "output_type": "stream",
     "text": [
      "AOT LOSS :: 0.7027706503868103\tAOT  ACC :: 0.4933333396911621\n",
      "MOI LOSS :: 0.6964451670646667\tMOI  ACC :: 0.5333333611488342\n",
      "MP  LOSS :: 11.422469139099121\tMP   ACC :: 3.899129296769388e-05\n",
      "LOSS     :: 11.422469139099121\n",
      "Start 205 epoch\n"
     ]
    },
    {
     "name": "stderr",
     "output_type": "stream",
     "text": [
      "100%|██████████| 100/100 [02:50<00:00,  1.70s/it]\n"
     ]
    },
    {
     "name": "stdout",
     "output_type": "stream",
     "text": [
      "AOT LOSS :: 0.7027706503868103\tAOT  ACC :: 0.49000000953674316\n",
      "MOI LOSS :: 0.6964451670646667\tMOI  ACC :: 0.5199999809265137\n",
      "MP  LOSS :: 1.4542717933654785\tMP   ACC :: 3.8675945688737556e-05\n",
      "LOSS     :: 1.4542717933654785\n",
      "Start 206 epoch\n"
     ]
    },
    {
     "name": "stderr",
     "output_type": "stream",
     "text": [
      "100%|██████████| 100/100 [02:51<00:00,  1.72s/it]\n"
     ]
    },
    {
     "name": "stdout",
     "output_type": "stream",
     "text": [
      "AOT LOSS :: 0.7027706503868103\tAOT  ACC :: 0.5\n",
      "MOI LOSS :: 0.6964451670646667\tMOI  ACC :: 0.5433333516120911\n",
      "MP  LOSS :: 2.366042375564575\tMP   ACC :: 0.00011175536928931251\n",
      "LOSS     :: 2.366042375564575\n",
      "Start 207 epoch\n"
     ]
    },
    {
     "name": "stderr",
     "output_type": "stream",
     "text": [
      "100%|██████████| 100/100 [02:50<00:00,  1.70s/it]\n"
     ]
    },
    {
     "name": "stdout",
     "output_type": "stream",
     "text": [
      "AOT LOSS :: 0.7027706503868103\tAOT  ACC :: 0.46666666865348816\n",
      "MOI LOSS :: 0.6964451670646667\tMOI  ACC :: 0.4866666793823242\n",
      "MP  LOSS :: 0.6269167065620422\tMP   ACC :: 0.00023394775053020567\n",
      "LOSS     :: 0.6269167065620422\n",
      "Start 208 epoch\n"
     ]
    },
    {
     "name": "stderr",
     "output_type": "stream",
     "text": [
      "100%|██████████| 100/100 [02:48<00:00,  1.68s/it]\n"
     ]
    },
    {
     "name": "stdout",
     "output_type": "stream",
     "text": [
      "AOT LOSS :: 0.7027706503868103\tAOT  ACC :: 0.5133333206176758\n",
      "MOI LOSS :: 0.6964451670646667\tMOI  ACC :: 0.5299999713897705\n",
      "MP  LOSS :: 18.243356704711914\tMP   ACC :: 0.00011919148528249934\n",
      "LOSS     :: 18.243356704711914\n",
      "Start 209 epoch\n"
     ]
    },
    {
     "name": "stderr",
     "output_type": "stream",
     "text": [
      "100%|██████████| 100/100 [03:01<00:00,  1.81s/it]\n"
     ]
    },
    {
     "name": "stdout",
     "output_type": "stream",
     "text": [
      "AOT LOSS :: 0.7027706503868103\tAOT  ACC :: 0.5233333110809326\n",
      "MOI LOSS :: 0.6964451670646667\tMOI  ACC :: 0.5666666626930237\n",
      "MP  LOSS :: 2.7885921001434326\tMP   ACC :: 5.7057699450524524e-05\n",
      "LOSS     :: 2.7885921001434326\n",
      "Start 210 epoch\n"
     ]
    },
    {
     "name": "stderr",
     "output_type": "stream",
     "text": [
      "100%|██████████| 100/100 [03:14<00:00,  1.94s/it]\n"
     ]
    },
    {
     "name": "stdout",
     "output_type": "stream",
     "text": [
      "AOT LOSS :: 0.7027706503868103\tAOT  ACC :: 0.5099999904632568\n",
      "MOI LOSS :: 0.6964451670646667\tMOI  ACC :: 0.4533333480358124\n",
      "MP  LOSS :: 1.24239981174469\tMP   ACC :: 6.390381167875603e-05\n",
      "LOSS     :: 1.24239981174469\n",
      "Start 211 epoch\n"
     ]
    },
    {
     "name": "stderr",
     "output_type": "stream",
     "text": [
      "100%|██████████| 100/100 [02:40<00:00,  1.61s/it]\n"
     ]
    },
    {
     "name": "stdout",
     "output_type": "stream",
     "text": [
      "AOT LOSS :: 0.7027706503868103\tAOT  ACC :: 0.49000000953674316\n",
      "MOI LOSS :: 0.6964451670646667\tMOI  ACC :: 0.4933333396911621\n",
      "MP  LOSS :: 1.1948329210281372\tMP   ACC :: 9.112549014389515e-05\n",
      "LOSS     :: 1.1948329210281372\n",
      "Start 212 epoch\n"
     ]
    },
    {
     "name": "stderr",
     "output_type": "stream",
     "text": [
      "100%|██████████| 100/100 [02:57<00:00,  1.78s/it]\n"
     ]
    },
    {
     "name": "stdout",
     "output_type": "stream",
     "text": [
      "AOT LOSS :: 0.7027706503868103\tAOT  ACC :: 0.4933333396911621\n",
      "MOI LOSS :: 0.6964451670646667\tMOI  ACC :: 0.4399999976158142\n",
      "MP  LOSS :: 18.002914428710938\tMP   ACC :: 4.0110269765136763e-05\n",
      "LOSS     :: 18.002914428710938\n",
      "Start 213 epoch\n"
     ]
    },
    {
     "name": "stderr",
     "output_type": "stream",
     "text": [
      "100%|██████████| 100/100 [02:47<00:00,  1.67s/it]\n"
     ]
    },
    {
     "name": "stdout",
     "output_type": "stream",
     "text": [
      "AOT LOSS :: 0.7027706503868103\tAOT  ACC :: 0.5199999809265137\n",
      "MOI LOSS :: 0.6964451670646667\tMOI  ACC :: 0.4833333194255829\n",
      "MP  LOSS :: 1.2408087253570557\tMP   ACC :: 4.079183054273017e-05\n",
      "LOSS     :: 1.2408087253570557\n",
      "Start 214 epoch\n"
     ]
    },
    {
     "name": "stderr",
     "output_type": "stream",
     "text": [
      "100%|██████████| 100/100 [02:44<00:00,  1.64s/it]\n"
     ]
    },
    {
     "name": "stdout",
     "output_type": "stream",
     "text": [
      "AOT LOSS :: 0.7027706503868103\tAOT  ACC :: 0.5066666603088379\n",
      "MOI LOSS :: 0.6964451670646667\tMOI  ACC :: 0.4866666793823242\n",
      "MP  LOSS :: 3.496612548828125\tMP   ACC :: 3.898112117894925e-05\n",
      "LOSS     :: 3.496612548828125\n",
      "Start 215 epoch\n"
     ]
    },
    {
     "name": "stderr",
     "output_type": "stream",
     "text": [
      "100%|██████████| 100/100 [03:01<00:00,  1.82s/it]\n"
     ]
    },
    {
     "name": "stdout",
     "output_type": "stream",
     "text": [
      "AOT LOSS :: 0.7027706503868103\tAOT  ACC :: 0.4566666781902313\n",
      "MOI LOSS :: 0.6964451670646667\tMOI  ACC :: 0.5400000214576721\n",
      "MP  LOSS :: 2.178351402282715\tMP   ACC :: 0.0001386922231176868\n",
      "LOSS     :: 2.178351402282715\n",
      "Start 216 epoch\n"
     ]
    },
    {
     "name": "stderr",
     "output_type": "stream",
     "text": [
      "100%|██████████| 100/100 [02:48<00:00,  1.69s/it]\n"
     ]
    },
    {
     "name": "stdout",
     "output_type": "stream",
     "text": [
      "AOT LOSS :: 0.7027706503868103\tAOT  ACC :: 0.4699999988079071\n",
      "MOI LOSS :: 0.6964451670646667\tMOI  ACC :: 0.4866666793823242\n",
      "MP  LOSS :: 0.4225839376449585\tMP   ACC :: 0.0001292521192226559\n",
      "LOSS     :: 0.4225839376449585\n",
      "Start 217 epoch\n"
     ]
    },
    {
     "name": "stderr",
     "output_type": "stream",
     "text": [
      "100%|██████████| 100/100 [02:59<00:00,  1.80s/it]\n"
     ]
    },
    {
     "name": "stdout",
     "output_type": "stream",
     "text": [
      "AOT LOSS :: 0.7027706503868103\tAOT  ACC :: 0.5099999904632568\n",
      "MOI LOSS :: 0.6964451670646667\tMOI  ACC :: 0.47999998927116394\n",
      "MP  LOSS :: 0.6902562975883484\tMP   ACC :: 9.143066563410684e-05\n",
      "LOSS     :: 0.6902562975883484\n",
      "Start 218 epoch\n"
     ]
    },
    {
     "name": "stderr",
     "output_type": "stream",
     "text": [
      "100%|██████████| 100/100 [02:50<00:00,  1.71s/it]\n"
     ]
    },
    {
     "name": "stdout",
     "output_type": "stream",
     "text": [
      "AOT LOSS :: 0.7027706503868103\tAOT  ACC :: 0.47999998927116394\n",
      "MOI LOSS :: 0.6964451670646667\tMOI  ACC :: 0.5199999809265137\n",
      "MP  LOSS :: 1.496554970741272\tMP   ACC :: 3.1809489883016795e-05\n",
      "LOSS     :: 1.496554970741272\n",
      "Start 219 epoch\n"
     ]
    },
    {
     "name": "stderr",
     "output_type": "stream",
     "text": [
      "100%|██████████| 100/100 [02:51<00:00,  1.72s/it]\n"
     ]
    },
    {
     "name": "stdout",
     "output_type": "stream",
     "text": [
      "AOT LOSS :: 0.7027706503868103\tAOT  ACC :: 0.476666659116745\n",
      "MOI LOSS :: 0.6964451670646667\tMOI  ACC :: 0.49000000953674316\n",
      "MP  LOSS :: 1.0943125486373901\tMP   ACC :: 3.3986409107455984e-05\n",
      "LOSS     :: 1.0943125486373901\n",
      "Start 220 epoch\n"
     ]
    },
    {
     "name": "stderr",
     "output_type": "stream",
     "text": [
      "100%|██████████| 100/100 [02:50<00:00,  1.70s/it]\n"
     ]
    },
    {
     "name": "stdout",
     "output_type": "stream",
     "text": [
      "AOT LOSS :: 0.7027706503868103\tAOT  ACC :: 0.4933333396911621\n",
      "MOI LOSS :: 0.6964451670646667\tMOI  ACC :: 0.5166666507720947\n",
      "MP  LOSS :: 0.8132369518280029\tMP   ACC :: 7.334391284530284e-06\n",
      "LOSS     :: 0.8132369518280029\n",
      "Start 221 epoch\n"
     ]
    },
    {
     "name": "stderr",
     "output_type": "stream",
     "text": [
      "100%|██████████| 100/100 [02:56<00:00,  1.76s/it]\n"
     ]
    },
    {
     "name": "stdout",
     "output_type": "stream",
     "text": [
      "AOT LOSS :: 0.7027706503868103\tAOT  ACC :: 0.5\n",
      "MOI LOSS :: 0.6964451670646667\tMOI  ACC :: 0.5299999713897705\n",
      "MP  LOSS :: 0.6471652388572693\tMP   ACC :: 7.026163802947849e-05\n",
      "LOSS     :: 0.6471652388572693\n",
      "Start 222 epoch\n"
     ]
    },
    {
     "name": "stderr",
     "output_type": "stream",
     "text": [
      "100%|██████████| 100/100 [02:53<00:00,  1.74s/it]\n"
     ]
    },
    {
     "name": "stdout",
     "output_type": "stream",
     "text": [
      "AOT LOSS :: 0.7027706503868103\tAOT  ACC :: 0.5099999904632568\n",
      "MOI LOSS :: 0.6964451670646667\tMOI  ACC :: 0.49666666984558105\n",
      "MP  LOSS :: 0.7855836749076843\tMP   ACC :: 7.824706699466333e-05\n",
      "LOSS     :: 0.7855836749076843\n",
      "Start 223 epoch\n"
     ]
    },
    {
     "name": "stderr",
     "output_type": "stream",
     "text": [
      "100%|██████████| 100/100 [03:02<00:00,  1.82s/it]\n"
     ]
    },
    {
     "name": "stdout",
     "output_type": "stream",
     "text": [
      "AOT LOSS :: 0.7027706503868103\tAOT  ACC :: 0.4933333396911621\n",
      "MOI LOSS :: 0.6964451670646667\tMOI  ACC :: 0.49000000953674316\n",
      "MP  LOSS :: 2.2514312267303467\tMP   ACC :: 2.2410074961953796e-05\n",
      "LOSS     :: 2.2514312267303467\n",
      "Start 224 epoch\n"
     ]
    },
    {
     "name": "stderr",
     "output_type": "stream",
     "text": [
      "100%|██████████| 100/100 [02:49<00:00,  1.70s/it]\n"
     ]
    },
    {
     "name": "stdout",
     "output_type": "stream",
     "text": [
      "AOT LOSS :: 0.7027706503868103\tAOT  ACC :: 0.5066666603088379\n",
      "MOI LOSS :: 0.6964451670646667\tMOI  ACC :: 0.5366666913032532\n",
      "MP  LOSS :: 26.395235061645508\tMP   ACC :: 0.00014158121484797448\n",
      "LOSS     :: 26.395235061645508\n",
      "Start 225 epoch\n"
     ]
    },
    {
     "name": "stderr",
     "output_type": "stream",
     "text": [
      "100%|██████████| 100/100 [02:56<00:00,  1.76s/it]\n"
     ]
    },
    {
     "name": "stdout",
     "output_type": "stream",
     "text": [
      "AOT LOSS :: 0.7027706503868103\tAOT  ACC :: 0.476666659116745\n",
      "MOI LOSS :: 0.6964451670646667\tMOI  ACC :: 0.5166666507720947\n",
      "MP  LOSS :: 1.8587713241577148\tMP   ACC :: 2.1118163203937e-05\n",
      "LOSS     :: 1.8587713241577148\n",
      "Start 226 epoch\n"
     ]
    },
    {
     "name": "stderr",
     "output_type": "stream",
     "text": [
      "100%|██████████| 100/100 [02:55<00:00,  1.76s/it]\n"
     ]
    },
    {
     "name": "stdout",
     "output_type": "stream",
     "text": [
      "AOT LOSS :: 0.7027706503868103\tAOT  ACC :: 0.4933333396911621\n",
      "MOI LOSS :: 0.6964451670646667\tMOI  ACC :: 0.5133333206176758\n",
      "MP  LOSS :: 1.9740031957626343\tMP   ACC :: 6.51550290058367e-05\n",
      "LOSS     :: 1.9740031957626343\n",
      "Start 227 epoch\n"
     ]
    },
    {
     "name": "stderr",
     "output_type": "stream",
     "text": [
      "100%|██████████| 100/100 [03:01<00:00,  1.81s/it]\n"
     ]
    },
    {
     "name": "stdout",
     "output_type": "stream",
     "text": [
      "AOT LOSS :: 0.7027706503868103\tAOT  ACC :: 0.5166666507720947\n",
      "MOI LOSS :: 0.6964451670646667\tMOI  ACC :: 0.49666666984558105\n",
      "MP  LOSS :: 5.8055548667907715\tMP   ACC :: 8.088175673037767e-05\n",
      "LOSS     :: 5.8055548667907715\n",
      "Start 228 epoch\n"
     ]
    },
    {
     "name": "stderr",
     "output_type": "stream",
     "text": [
      "100%|██████████| 100/100 [02:53<00:00,  1.73s/it]\n"
     ]
    },
    {
     "name": "stdout",
     "output_type": "stream",
     "text": [
      "AOT LOSS :: 0.7027706503868103\tAOT  ACC :: 0.5133333206176758\n",
      "MOI LOSS :: 0.6964451670646667\tMOI  ACC :: 0.49000000953674316\n",
      "MP  LOSS :: 1.070217490196228\tMP   ACC :: 0.00012733967741951346\n",
      "LOSS     :: 1.070217490196228\n",
      "Start 229 epoch\n"
     ]
    },
    {
     "name": "stderr",
     "output_type": "stream",
     "text": [
      "100%|██████████| 100/100 [03:04<00:00,  1.84s/it]\n"
     ]
    },
    {
     "name": "stdout",
     "output_type": "stream",
     "text": [
      "AOT LOSS :: 0.7027706503868103\tAOT  ACC :: 0.4833333194255829\n",
      "MOI LOSS :: 0.6964451670646667\tMOI  ACC :: 0.54666668176651\n",
      "MP  LOSS :: 1.319701910018921\tMP   ACC :: 0.00011710612307069823\n",
      "LOSS     :: 1.319701910018921\n",
      "Start 230 epoch\n"
     ]
    },
    {
     "name": "stderr",
     "output_type": "stream",
     "text": [
      "100%|██████████| 100/100 [03:08<00:00,  1.89s/it]\n"
     ]
    },
    {
     "name": "stdout",
     "output_type": "stream",
     "text": [
      "AOT LOSS :: 0.7027706503868103\tAOT  ACC :: 0.4699999988079071\n",
      "MOI LOSS :: 0.6964451670646667\tMOI  ACC :: 0.5066666603088379\n",
      "MP  LOSS :: 2.0414388179779053\tMP   ACC :: 1.9816081476164982e-05\n",
      "LOSS     :: 2.0414388179779053\n",
      "Start 231 epoch\n"
     ]
    },
    {
     "name": "stderr",
     "output_type": "stream",
     "text": [
      "100%|██████████| 100/100 [02:58<00:00,  1.78s/it]\n"
     ]
    },
    {
     "name": "stdout",
     "output_type": "stream",
     "text": [
      "AOT LOSS :: 0.7027706503868103\tAOT  ACC :: 0.4399999976158142\n",
      "MOI LOSS :: 0.6964451670646667\tMOI  ACC :: 0.476666659116745\n",
      "MP  LOSS :: 0.9534587860107422\tMP   ACC :: 5.184936526347883e-05\n",
      "LOSS     :: 0.9534587860107422\n",
      "Start 232 epoch\n"
     ]
    },
    {
     "name": "stderr",
     "output_type": "stream",
     "text": [
      "100%|██████████| 100/100 [02:48<00:00,  1.69s/it]\n"
     ]
    },
    {
     "name": "stdout",
     "output_type": "stream",
     "text": [
      "AOT LOSS :: 0.7027706503868103\tAOT  ACC :: 0.46666666865348816\n",
      "MOI LOSS :: 0.6964451670646667\tMOI  ACC :: 0.5366666913032532\n",
      "MP  LOSS :: 1.5493254661560059\tMP   ACC :: 5.0506590923760086e-05\n",
      "LOSS     :: 1.5493254661560059\n",
      "Start 233 epoch\n"
     ]
    },
    {
     "name": "stderr",
     "output_type": "stream",
     "text": [
      "100%|██████████| 100/100 [02:46<00:00,  1.67s/it]\n"
     ]
    },
    {
     "name": "stdout",
     "output_type": "stream",
     "text": [
      "AOT LOSS :: 0.7027706503868103\tAOT  ACC :: 0.4699999988079071\n",
      "MOI LOSS :: 0.6964451670646667\tMOI  ACC :: 0.5066666603088379\n",
      "MP  LOSS :: 0.7018691897392273\tMP   ACC :: 0.00018228149565402418\n",
      "LOSS     :: 0.7018691897392273\n",
      "Start 234 epoch\n"
     ]
    },
    {
     "name": "stderr",
     "output_type": "stream",
     "text": [
      "100%|██████████| 100/100 [03:03<00:00,  1.83s/it]\n"
     ]
    },
    {
     "name": "stdout",
     "output_type": "stream",
     "text": [
      "AOT LOSS :: 0.7027706503868103\tAOT  ACC :: 0.49000000953674316\n",
      "MOI LOSS :: 0.6964451670646667\tMOI  ACC :: 0.5299999713897705\n",
      "MP  LOSS :: 2.190366506576538\tMP   ACC :: 9.236653568223119e-06\n",
      "LOSS     :: 2.190366506576538\n",
      "Start 235 epoch\n"
     ]
    },
    {
     "name": "stderr",
     "output_type": "stream",
     "text": [
      "100%|██████████| 100/100 [03:06<00:00,  1.87s/it]\n"
     ]
    },
    {
     "name": "stdout",
     "output_type": "stream",
     "text": [
      "AOT LOSS :: 0.7027706503868103\tAOT  ACC :: 0.4833333194255829\n",
      "MOI LOSS :: 0.6964451670646667\tMOI  ACC :: 0.4566666781902313\n",
      "MP  LOSS :: 1.9292354583740234\tMP   ACC :: 3.734334313776344e-05\n",
      "LOSS     :: 1.9292354583740234\n",
      "Start 236 epoch\n"
     ]
    },
    {
     "name": "stderr",
     "output_type": "stream",
     "text": [
      "100%|██████████| 100/100 [02:57<00:00,  1.78s/it]\n"
     ]
    },
    {
     "name": "stdout",
     "output_type": "stream",
     "text": [
      "AOT LOSS :: 0.7027706503868103\tAOT  ACC :: 0.476666659116745\n",
      "MOI LOSS :: 0.6964451670646667\tMOI  ACC :: 0.4633333384990692\n",
      "MP  LOSS :: 1.149366855621338\tMP   ACC :: 6.950886745471507e-05\n",
      "LOSS     :: 1.149366855621338\n",
      "Start 237 epoch\n"
     ]
    },
    {
     "name": "stderr",
     "output_type": "stream",
     "text": [
      "100%|██████████| 100/100 [03:00<00:00,  1.81s/it]\n"
     ]
    },
    {
     "name": "stdout",
     "output_type": "stream",
     "text": [
      "AOT LOSS :: 0.7027706503868103\tAOT  ACC :: 0.46000000834465027\n",
      "MOI LOSS :: 0.6964451670646667\tMOI  ACC :: 0.46000000834465027\n",
      "MP  LOSS :: 0.9890645146369934\tMP   ACC :: 1.068115216185106e-05\n",
      "LOSS     :: 0.9890645146369934\n",
      "Start 238 epoch\n"
     ]
    },
    {
     "name": "stderr",
     "output_type": "stream",
     "text": [
      "100%|██████████| 100/100 [03:01<00:00,  1.81s/it]\n"
     ]
    },
    {
     "name": "stdout",
     "output_type": "stream",
     "text": [
      "AOT LOSS :: 0.7027706503868103\tAOT  ACC :: 0.503333330154419\n",
      "MOI LOSS :: 0.6964451670646667\tMOI  ACC :: 0.5099999904632568\n",
      "MP  LOSS :: 0.9600183367729187\tMP   ACC :: 5.1554361562011763e-05\n",
      "LOSS     :: 0.9600183367729187\n",
      "Start 239 epoch\n"
     ]
    },
    {
     "name": "stderr",
     "output_type": "stream",
     "text": [
      "100%|██████████| 100/100 [03:03<00:00,  1.83s/it]\n"
     ]
    },
    {
     "name": "stdout",
     "output_type": "stream",
     "text": [
      "AOT LOSS :: 0.7027706503868103\tAOT  ACC :: 0.4566666781902313\n",
      "MOI LOSS :: 0.6964451670646667\tMOI  ACC :: 0.47333332896232605\n",
      "MP  LOSS :: 0.9534761309623718\tMP   ACC :: 6.195068272063509e-05\n",
      "LOSS     :: 0.9534761309623718\n",
      "Start 240 epoch\n"
     ]
    },
    {
     "name": "stderr",
     "output_type": "stream",
     "text": [
      "100%|██████████| 100/100 [02:49<00:00,  1.69s/it]\n"
     ]
    },
    {
     "name": "stdout",
     "output_type": "stream",
     "text": [
      "AOT LOSS :: 0.7027706503868103\tAOT  ACC :: 0.4933333396911621\n",
      "MOI LOSS :: 0.6964451670646667\tMOI  ACC :: 0.4566666781902313\n",
      "MP  LOSS :: 1.7263689041137695\tMP   ACC :: 3.8218178815441206e-05\n",
      "LOSS     :: 1.7263689041137695\n",
      "Start 241 epoch\n"
     ]
    },
    {
     "name": "stderr",
     "output_type": "stream",
     "text": [
      "100%|██████████| 100/100 [02:53<00:00,  1.73s/it]\n"
     ]
    },
    {
     "name": "stdout",
     "output_type": "stream",
     "text": [
      "AOT LOSS :: 0.7027706503868103\tAOT  ACC :: 0.46666666865348816\n",
      "MOI LOSS :: 0.6964451670646667\tMOI  ACC :: 0.5133333206176758\n",
      "MP  LOSS :: 0.9058012962341309\tMP   ACC :: 9.531656542094424e-05\n",
      "LOSS     :: 0.9058012962341309\n",
      "Start 242 epoch\n"
     ]
    },
    {
     "name": "stderr",
     "output_type": "stream",
     "text": [
      "100%|██████████| 100/100 [02:57<00:00,  1.77s/it]\n"
     ]
    },
    {
     "name": "stdout",
     "output_type": "stream",
     "text": [
      "AOT LOSS :: 0.7027706503868103\tAOT  ACC :: 0.4633333384990692\n",
      "MOI LOSS :: 0.6964451670646667\tMOI  ACC :: 0.476666659116745\n",
      "MP  LOSS :: 2.1117336750030518\tMP   ACC :: 1.8208822439191863e-05\n",
      "LOSS     :: 2.1117336750030518\n",
      "Start 243 epoch\n"
     ]
    },
    {
     "name": "stderr",
     "output_type": "stream",
     "text": [
      "100%|██████████| 100/100 [02:46<00:00,  1.67s/it]\n"
     ]
    },
    {
     "name": "stdout",
     "output_type": "stream",
     "text": [
      "AOT LOSS :: 0.7027706503868103\tAOT  ACC :: 0.49000000953674316\n",
      "MOI LOSS :: 0.6964451670646667\tMOI  ACC :: 0.5066666603088379\n",
      "MP  LOSS :: 0.892651379108429\tMP   ACC :: 5.644734847010113e-05\n",
      "LOSS     :: 0.892651379108429\n",
      "Start 244 epoch\n"
     ]
    },
    {
     "name": "stderr",
     "output_type": "stream",
     "text": [
      "100%|██████████| 100/100 [02:55<00:00,  1.75s/it]\n"
     ]
    },
    {
     "name": "stdout",
     "output_type": "stream",
     "text": [
      "AOT LOSS :: 0.7027706503868103\tAOT  ACC :: 0.4566666781902313\n",
      "MOI LOSS :: 0.6964451670646667\tMOI  ACC :: 0.5066666603088379\n",
      "MP  LOSS :: 1.6162033081054688\tMP   ACC :: 6.008911077515222e-05\n",
      "LOSS     :: 1.6162033081054688\n",
      "Start 245 epoch\n"
     ]
    },
    {
     "name": "stderr",
     "output_type": "stream",
     "text": [
      "100%|██████████| 100/100 [02:59<00:00,  1.80s/it]\n"
     ]
    },
    {
     "name": "stdout",
     "output_type": "stream",
     "text": [
      "AOT LOSS :: 0.7027706503868103\tAOT  ACC :: 0.5433333516120911\n",
      "MOI LOSS :: 0.6964451670646667\tMOI  ACC :: 0.476666659116745\n",
      "MP  LOSS :: 0.6466891765594482\tMP   ACC :: 4.57763671875e-05\n",
      "LOSS     :: 0.6466891765594482\n",
      "Start 246 epoch\n"
     ]
    },
    {
     "name": "stderr",
     "output_type": "stream",
     "text": [
      "100%|██████████| 100/100 [02:37<00:00,  1.58s/it]\n"
     ]
    },
    {
     "name": "stdout",
     "output_type": "stream",
     "text": [
      "AOT LOSS :: 0.7027706503868103\tAOT  ACC :: 0.5266666412353516\n",
      "MOI LOSS :: 0.6964451670646667\tMOI  ACC :: 0.5099999904632568\n",
      "MP  LOSS :: 0.49517545104026794\tMP   ACC :: 4.803466799785383e-05\n",
      "LOSS     :: 0.49517545104026794\n",
      "Start 247 epoch\n"
     ]
    },
    {
     "name": "stderr",
     "output_type": "stream",
     "text": [
      "100%|██████████| 100/100 [02:37<00:00,  1.57s/it]\n"
     ]
    },
    {
     "name": "stdout",
     "output_type": "stream",
     "text": [
      "AOT LOSS :: 0.7027706503868103\tAOT  ACC :: 0.4833333194255829\n",
      "MOI LOSS :: 0.6964451670646667\tMOI  ACC :: 0.5\n",
      "MP  LOSS :: 0.5663202404975891\tMP   ACC :: 2.2308349798549898e-05\n",
      "LOSS     :: 0.5663202404975891\n",
      "Start 248 epoch\n"
     ]
    },
    {
     "name": "stderr",
     "output_type": "stream",
     "text": [
      "100%|██████████| 100/100 [02:30<00:00,  1.51s/it]\n"
     ]
    },
    {
     "name": "stdout",
     "output_type": "stream",
     "text": [
      "AOT LOSS :: 0.7027706503868103\tAOT  ACC :: 0.4699999988079071\n",
      "MOI LOSS :: 0.6964451670646667\tMOI  ACC :: 0.4633333384990692\n",
      "MP  LOSS :: 1.270924687385559\tMP   ACC :: 5.6345623306697235e-05\n",
      "LOSS     :: 1.270924687385559\n",
      "Start 249 epoch\n"
     ]
    },
    {
     "name": "stderr",
     "output_type": "stream",
     "text": [
      "100%|██████████| 100/100 [02:33<00:00,  1.54s/it]"
     ]
    },
    {
     "name": "stdout",
     "output_type": "stream",
     "text": [
      "AOT LOSS :: 0.7027706503868103\tAOT  ACC :: 0.47333332896232605\n",
      "MOI LOSS :: 0.6964451670646667\tMOI  ACC :: 0.5199999809265137\n",
      "MP  LOSS :: 53.97935104370117\tMP   ACC :: 6.731160829076543e-05\n",
      "LOSS     :: 53.97935104370117\n"
     ]
    },
    {
     "name": "stderr",
     "output_type": "stream",
     "text": [
      "\n"
     ]
    }
   ],
   "source": [
    "#callbacks.on_train_begin(logs = logs)\n",
    "\n",
    "for epoch in range(250):\n",
    "    # callbacks.on_train_begin\n",
    "\n",
    "    dataset = fp.ano_dataset()\n",
    "    dataset = dataset.batch(3)\n",
    "    dataset = dataset.prefetch(1)\n",
    "    dataset = iter(dataset)\n",
    "\n",
    "    print(f'Start {epoch} epoch')\n",
    "    start = time.time()\n",
    "    #callbacks.on_epoch_begin(epoch, logs = logs)\n",
    "    #for step in range(arg.data_size):\n",
    "    for batch in dataset:\n",
    "        #callbacks.on_batch_begin(step,logs = logs)\n",
    "        aot_input, aot_bbox, aot_label, moi_input, moi_bbox, moi_label, mp_input, mp_bbox, mp_label, name, key = next(dataset)\n",
    "        with tf.GradientTape() as tape:\n",
    "            aot_out, moi_out, mp_out = model({'AOT_Front_Input' : aot_input,\n",
    "        'AOT_MLP_Input' : aot_bbox,\n",
    "        'MOI_Front_Input' : moi_input,\n",
    "        'MOI_MLP_Input' : moi_bbox,\n",
    "        'MP_Front_Input' : mp_input,\n",
    "        'MP_MLP_Input' : mp_bbox})\n",
    "            #aot_loss_value = aot_loss(aot_label, aot_out)\n",
    "            #moi_loss_value = moi_loss(moi_label, moi_out)\n",
    "            mp_loss_value = mp_loss(mp_label, mp_out)\n",
    "        loss = mp_loss_value\n",
    "        grads = tape.gradient(loss, model.trainable_weights)\n",
    "        optimizer.apply_gradients(zip(grads, model.trainable_weights))\n",
    "\n",
    "        #### aot,moi의 출력값을 one-hot-encoding으로 변환\n",
    "        aot_out = changer(aot_out)\n",
    "        moi_out = changer(moi_out)\n",
    "\n",
    "\n",
    "        aot_metrics.update_state(aot_label, aot_out)\n",
    "        moi_metrics.update_state(moi_label, moi_out)\n",
    "        mp_metrics.update_state(mp_label, mp_out)\n",
    "        #callbacks.on_batch_end(step ,logs = logs)\n",
    "\n",
    "    print(f'AOT LOSS :: {aot_loss_value}\\tAOT  ACC :: {float(aot_metrics.result())}')\n",
    "    print(f'MOI LOSS :: {moi_loss_value}\\tMOI  ACC :: {float(moi_metrics.result())}')\n",
    "    print(f'MP  LOSS :: {mp_loss_value}\\tMP   ACC :: {float(mp_metrics.result())}')\n",
    "    print(f'LOSS     :: {loss}')\n",
    "\n",
    "    aot_metrics.reset_states()\n",
    "    moi_metrics.reset_states()\n",
    "    mp_metrics.reset_states()\n",
    "\n",
    "    #callbacks.on_epoch_end(epoch, logs = logs)\n",
    "#callbacks.on_train_end(logs = logs)"
   ]
  },
  {
   "cell_type": "code",
   "execution_count": 4,
   "metadata": {},
   "outputs": [
    {
     "name": "stdout",
     "output_type": "stream",
     "text": [
      "Start 0 epoch\n"
     ]
    },
    {
     "name": "stderr",
     "output_type": "stream",
     "text": [
      " 72%|███████▏  | 717/1000 [11:32<04:33,  1.04it/s]\n"
     ]
    },
    {
     "ename": "InvalidArgumentError",
     "evalue": "{{function_node __wrapped__IteratorGetNext_output_types_11_device_/job:localhost/replica:0/task:0/device:CPU:0}} ValueError: zero-size array to reduction operation minimum which has no identity\nTraceback (most recent call last):\n\n  File \"c:\\Users\\KaAI\\anaconda3\\envs\\etc\\lib\\site-packages\\tensorflow\\python\\ops\\script_ops.py\", line 271, in __call__\n    ret = func(*args)\n\n  File \"c:\\Users\\KaAI\\anaconda3\\envs\\etc\\lib\\site-packages\\tensorflow\\python\\autograph\\impl\\api.py\", line 642, in wrapper\n    return func(*args, **kwargs)\n\n  File \"c:\\Users\\KaAI\\anaconda3\\envs\\etc\\lib\\site-packages\\tensorflow\\python\\data\\ops\\dataset_ops.py\", line 1035, in generator_py_func\n    values = next(generator_state.get_iterator(iterator_id))\n\n  File \"d:\\집대성본\\flow_pipeline.py\", line 86, in _generator\n    image = resize(image, arg.flow_size) # (256,256,3)\n\n  File \"c:\\Users\\KaAI\\anaconda3\\envs\\etc\\lib\\site-packages\\skimage\\transform\\_warps.py\", line 165, in resize\n    img_bounds = np.array([image.min(), image.max()]) if clip else None\n\n  File \"c:\\Users\\KaAI\\anaconda3\\envs\\etc\\lib\\site-packages\\numpy\\core\\_methods.py\", line 44, in _amin\n    return umr_minimum(a, axis, None, out, keepdims, initial, where)\n\nValueError: zero-size array to reduction operation minimum which has no identity\n\n\n\t [[{{node PyFunc}}]] [Op:IteratorGetNext]",
     "output_type": "error",
     "traceback": [
      "\u001b[1;31m---------------------------------------------------------------------------\u001b[0m",
      "\u001b[1;31mInvalidArgumentError\u001b[0m                      Traceback (most recent call last)",
      "Cell \u001b[1;32mIn [4], line 24\u001b[0m\n\u001b[0;32m     21\u001b[0m \u001b[39m#start = time.time()\u001b[39;00m\n\u001b[0;32m     22\u001b[0m \u001b[39m#for step in range(arg.data_size):\u001b[39;00m\n\u001b[0;32m     23\u001b[0m \u001b[39mfor\u001b[39;00m step \u001b[39min\u001b[39;00m tqdm\u001b[39m.\u001b[39mtqdm(\u001b[39mrange\u001b[39m(\u001b[39m1000\u001b[39m)):\n\u001b[1;32m---> 24\u001b[0m     _, _, _, _, _, _, mp_input, mp_bbox, mp_label, name, key \u001b[39m=\u001b[39m \u001b[39mnext\u001b[39;49m(dataset)\n\u001b[0;32m     25\u001b[0m     \u001b[39mwith\u001b[39;00m tf\u001b[39m.\u001b[39mGradientTape() \u001b[39mas\u001b[39;00m tape:\n\u001b[0;32m     26\u001b[0m         mp_out \u001b[39m=\u001b[39m model({\u001b[39m'\u001b[39m\u001b[39mMP_Front_Input\u001b[39m\u001b[39m'\u001b[39m : mp_input,\n\u001b[0;32m     27\u001b[0m     \u001b[39m'\u001b[39m\u001b[39mMP_MLP_Input\u001b[39m\u001b[39m'\u001b[39m : mp_bbox})\n",
      "File \u001b[1;32mc:\\Users\\KaAI\\anaconda3\\envs\\etc\\lib\\site-packages\\tensorflow\\python\\data\\ops\\iterator_ops.py:766\u001b[0m, in \u001b[0;36mOwnedIterator.__next__\u001b[1;34m(self)\u001b[0m\n\u001b[0;32m    764\u001b[0m \u001b[39mdef\u001b[39;00m \u001b[39m__next__\u001b[39m(\u001b[39mself\u001b[39m):\n\u001b[0;32m    765\u001b[0m   \u001b[39mtry\u001b[39;00m:\n\u001b[1;32m--> 766\u001b[0m     \u001b[39mreturn\u001b[39;00m \u001b[39mself\u001b[39;49m\u001b[39m.\u001b[39;49m_next_internal()\n\u001b[0;32m    767\u001b[0m   \u001b[39mexcept\u001b[39;00m errors\u001b[39m.\u001b[39mOutOfRangeError:\n\u001b[0;32m    768\u001b[0m     \u001b[39mraise\u001b[39;00m \u001b[39mStopIteration\u001b[39;00m\n",
      "File \u001b[1;32mc:\\Users\\KaAI\\anaconda3\\envs\\etc\\lib\\site-packages\\tensorflow\\python\\data\\ops\\iterator_ops.py:749\u001b[0m, in \u001b[0;36mOwnedIterator._next_internal\u001b[1;34m(self)\u001b[0m\n\u001b[0;32m    746\u001b[0m \u001b[39m# TODO(b/77291417): This runs in sync mode as iterators use an error status\u001b[39;00m\n\u001b[0;32m    747\u001b[0m \u001b[39m# to communicate that there is no more data to iterate over.\u001b[39;00m\n\u001b[0;32m    748\u001b[0m \u001b[39mwith\u001b[39;00m context\u001b[39m.\u001b[39mexecution_mode(context\u001b[39m.\u001b[39mSYNC):\n\u001b[1;32m--> 749\u001b[0m   ret \u001b[39m=\u001b[39m gen_dataset_ops\u001b[39m.\u001b[39;49miterator_get_next(\n\u001b[0;32m    750\u001b[0m       \u001b[39mself\u001b[39;49m\u001b[39m.\u001b[39;49m_iterator_resource,\n\u001b[0;32m    751\u001b[0m       output_types\u001b[39m=\u001b[39;49m\u001b[39mself\u001b[39;49m\u001b[39m.\u001b[39;49m_flat_output_types,\n\u001b[0;32m    752\u001b[0m       output_shapes\u001b[39m=\u001b[39;49m\u001b[39mself\u001b[39;49m\u001b[39m.\u001b[39;49m_flat_output_shapes)\n\u001b[0;32m    754\u001b[0m   \u001b[39mtry\u001b[39;00m:\n\u001b[0;32m    755\u001b[0m     \u001b[39m# Fast path for the case `self._structure` is not a nested structure.\u001b[39;00m\n\u001b[0;32m    756\u001b[0m     \u001b[39mreturn\u001b[39;00m \u001b[39mself\u001b[39m\u001b[39m.\u001b[39m_element_spec\u001b[39m.\u001b[39m_from_compatible_tensor_list(ret)  \u001b[39m# pylint: disable=protected-access\u001b[39;00m\n",
      "File \u001b[1;32mc:\\Users\\KaAI\\anaconda3\\envs\\etc\\lib\\site-packages\\tensorflow\\python\\ops\\gen_dataset_ops.py:3016\u001b[0m, in \u001b[0;36miterator_get_next\u001b[1;34m(iterator, output_types, output_shapes, name)\u001b[0m\n\u001b[0;32m   3014\u001b[0m   \u001b[39mreturn\u001b[39;00m _result\n\u001b[0;32m   3015\u001b[0m \u001b[39mexcept\u001b[39;00m _core\u001b[39m.\u001b[39m_NotOkStatusException \u001b[39mas\u001b[39;00m e:\n\u001b[1;32m-> 3016\u001b[0m   _ops\u001b[39m.\u001b[39;49mraise_from_not_ok_status(e, name)\n\u001b[0;32m   3017\u001b[0m \u001b[39mexcept\u001b[39;00m _core\u001b[39m.\u001b[39m_FallbackException:\n\u001b[0;32m   3018\u001b[0m   \u001b[39mpass\u001b[39;00m\n",
      "File \u001b[1;32mc:\\Users\\KaAI\\anaconda3\\envs\\etc\\lib\\site-packages\\tensorflow\\python\\framework\\ops.py:7209\u001b[0m, in \u001b[0;36mraise_from_not_ok_status\u001b[1;34m(e, name)\u001b[0m\n\u001b[0;32m   7207\u001b[0m \u001b[39mdef\u001b[39;00m \u001b[39mraise_from_not_ok_status\u001b[39m(e, name):\n\u001b[0;32m   7208\u001b[0m   e\u001b[39m.\u001b[39mmessage \u001b[39m+\u001b[39m\u001b[39m=\u001b[39m (\u001b[39m\"\u001b[39m\u001b[39m name: \u001b[39m\u001b[39m\"\u001b[39m \u001b[39m+\u001b[39m name \u001b[39mif\u001b[39;00m name \u001b[39mis\u001b[39;00m \u001b[39mnot\u001b[39;00m \u001b[39mNone\u001b[39;00m \u001b[39melse\u001b[39;00m \u001b[39m\"\u001b[39m\u001b[39m\"\u001b[39m)\n\u001b[1;32m-> 7209\u001b[0m   \u001b[39mraise\u001b[39;00m core\u001b[39m.\u001b[39m_status_to_exception(e) \u001b[39mfrom\u001b[39;00m \u001b[39mNone\u001b[39m\n",
      "\u001b[1;31mInvalidArgumentError\u001b[0m: {{function_node __wrapped__IteratorGetNext_output_types_11_device_/job:localhost/replica:0/task:0/device:CPU:0}} ValueError: zero-size array to reduction operation minimum which has no identity\nTraceback (most recent call last):\n\n  File \"c:\\Users\\KaAI\\anaconda3\\envs\\etc\\lib\\site-packages\\tensorflow\\python\\ops\\script_ops.py\", line 271, in __call__\n    ret = func(*args)\n\n  File \"c:\\Users\\KaAI\\anaconda3\\envs\\etc\\lib\\site-packages\\tensorflow\\python\\autograph\\impl\\api.py\", line 642, in wrapper\n    return func(*args, **kwargs)\n\n  File \"c:\\Users\\KaAI\\anaconda3\\envs\\etc\\lib\\site-packages\\tensorflow\\python\\data\\ops\\dataset_ops.py\", line 1035, in generator_py_func\n    values = next(generator_state.get_iterator(iterator_id))\n\n  File \"d:\\집대성본\\flow_pipeline.py\", line 86, in _generator\n    image = resize(image, arg.flow_size) # (256,256,3)\n\n  File \"c:\\Users\\KaAI\\anaconda3\\envs\\etc\\lib\\site-packages\\skimage\\transform\\_warps.py\", line 165, in resize\n    img_bounds = np.array([image.min(), image.max()]) if clip else None\n\n  File \"c:\\Users\\KaAI\\anaconda3\\envs\\etc\\lib\\site-packages\\numpy\\core\\_methods.py\", line 44, in _amin\n    return umr_minimum(a, axis, None, out, keepdims, initial, where)\n\nValueError: zero-size array to reduction operation minimum which has no identity\n\n\n\t [[{{node PyFunc}}]] [Op:IteratorGetNext]"
     ]
    }
   ],
   "source": [
    "#dataset = fp.ano_dataset()\n",
    "#dataset = dataset.batch(3)\n",
    "#dataset = dataset.prefetch(1)\n",
    "#dataset = iter(dataset)\n",
    "\n",
    "model = nm.MP_model()\n",
    "\n",
    "mp_loss = tf.keras.losses.MeanAbsoluteError()\n",
    "\n",
    "optimizer = tf.keras.optimizers.Adam()\n",
    "mp_metrics = tf.keras.metrics.Accuracy()\n",
    "\n",
    "for epoch in range(50):\n",
    "    # callbacks.on_train_begin\n",
    "    dataset = fp.ano_dataset()\n",
    "    dataset = dataset.batch(3)\n",
    "    dataset = dataset.prefetch(2)\n",
    "    dataset = iter(dataset)\n",
    "\n",
    "    print(f'Start {epoch} epoch')\n",
    "    #start = time.time()\n",
    "    #for step in range(arg.data_size):\n",
    "    for step in tqdm.tqdm(range(1000)):\n",
    "        _, _, _, _, _, _, mp_input, mp_bbox, mp_label, name, key = next(dataset)\n",
    "        with tf.GradientTape() as tape:\n",
    "            mp_out = model({'MP_Front_Input' : mp_input,\n",
    "        'MP_MLP_Input' : mp_bbox})\n",
    "            mp_loss_value = mp_loss(mp_label, mp_out)\n",
    "            loss =mp_loss_value\n",
    "        grads = tape.gradient(loss, model.trainable_weights)\n",
    "        optimizer.apply_gradients(zip(grads, model.trainable_weights))\n",
    "\n",
    "        mp_metrics.update_state(mp_label, mp_out)\n",
    "\n",
    "\n",
    "    print(f'MP  LOSS :: {mp_loss_value}\\tMP   ACC :: {float(mp_metrics.result())}')\n",
    "    print(f'LOSS     :: {loss}')\n",
    "\n",
    "    mp_metrics.reset_states()"
   ]
  },
  {
   "cell_type": "code",
   "execution_count": 7,
   "metadata": {},
   "outputs": [
    {
     "name": "stdout",
     "output_type": "stream",
     "text": [
      "1/1 [==============================] - 35s 35s/step - loss: 2.4696 - Arrow_of_Time_loss: 0.7000 - Motion_Irregularity_loss: 0.7012 - Middle_Prediction_loss: 1.0684 - Arrow_of_Time_accuracy: 0.0000e+00 - Motion_Irregularity_accuracy: 0.0000e+00 - Middle_Prediction_accuracy: 0.0031\n",
      "1/1 [==============================] - 4s 4s/step - loss: 8.4832 - Arrow_of_Time_loss: 0.1729 - Motion_Irregularity_loss: 7.2064 - Middle_Prediction_loss: 1.1039 - Arrow_of_Time_accuracy: 0.1250 - Motion_Irregularity_accuracy: 0.2500 - Middle_Prediction_accuracy: 6.6833e-04\n",
      "1/1 [==============================] - 4s 4s/step - loss: 9.6494 - Arrow_of_Time_loss: 2.8819 - Motion_Irregularity_loss: 5.0378 - Middle_Prediction_loss: 1.7297 - Arrow_of_Time_accuracy: 0.2500 - Motion_Irregularity_accuracy: 0.0000e+00 - Middle_Prediction_accuracy: 0.0027\n"
     ]
    }
   ],
   "source": [
    "history = []\n",
    "for i in range(3):\n",
    "    aot_input, aot_bbox, aot_label, moi_input, moi_bbox, moi_label, mp_input, mp_bbox, mp_label, name, key = next(dataset)\n",
    "    temp_history = model.fit(\n",
    "   {'AOT_Front_Input' : aot_input,\n",
    "    'AOT_MLP_Input' : aot_bbox,\n",
    "    'MOI_Front_Input' : moi_input,\n",
    "     'MOI_MLP_Input' : moi_bbox,\n",
    "    'MP_Front_Input' : mp_input,\n",
    "     'MP_MLP_Input' : mp_bbox},\n",
    "\n",
    "    {'Arrow_of_Time' : aot_label, 'Motion_Irregularity' : moi_label, 'Middle_Prediction' : mp_label})\n",
    "    history.append(temp_history)"
   ]
  },
  {
   "cell_type": "code",
   "execution_count": 54,
   "metadata": {},
   "outputs": [
    {
     "data": {
      "text/plain": [
       "<tf.Tensor: shape=(3, 2), dtype=float32, numpy=\n",
       "array([[1., 0.],\n",
       "       [0., 1.],\n",
       "       [1., 0.]], dtype=float32)>"
      ]
     },
     "execution_count": 54,
     "metadata": {},
     "output_type": "execute_result"
    }
   ],
   "source": [
    "aot_label"
   ]
  },
  {
   "cell_type": "code",
   "execution_count": 84,
   "metadata": {},
   "outputs": [
    {
     "name": "stdout",
     "output_type": "stream",
     "text": [
      "tf.Tensor(\n",
      "[[1. 0.]\n",
      " [1. 0.]\n",
      " [1. 0.]], shape=(3, 2), dtype=float64)\n",
      "tf.Tensor(\n",
      "[[1. 0.]\n",
      " [0. 1.]\n",
      " [1. 0.]], shape=(3, 2), dtype=float32)\n"
     ]
    }
   ],
   "source": [
    "print(changer(aot_out))\n",
    "print(aot_label)"
   ]
  },
  {
   "cell_type": "code",
   "execution_count": 57,
   "metadata": {},
   "outputs": [
    {
     "data": {
      "text/plain": [
       "<tf.Tensor: shape=(3, 2), dtype=float32, numpy=\n",
       "array([[0.5031774, 0.4968226],\n",
       "       [0.5031774, 0.4968226],\n",
       "       [0.5031774, 0.4968226]], dtype=float32)>"
      ]
     },
     "execution_count": 57,
     "metadata": {},
     "output_type": "execute_result"
    }
   ],
   "source": [
    "aot_out"
   ]
  },
  {
   "cell_type": "code",
   "execution_count": 66,
   "metadata": {},
   "outputs": [],
   "source": [
    "temp = aot_out.numpy()\n",
    "for i in range(len(temp)):\n",
    "    if i == 0:\n",
    "        a = np."
   ]
  },
  {
   "cell_type": "code",
   "execution_count": 68,
   "metadata": {},
   "outputs": [
    {
     "data": {
      "text/plain": [
       "<tf.Tensor: shape=(3, 2, 2), dtype=float32, numpy=\n",
       "array([[[1., 0.],\n",
       "        [1., 0.]],\n",
       "\n",
       "       [[1., 0.],\n",
       "        [1., 0.]],\n",
       "\n",
       "       [[1., 0.],\n",
       "        [1., 0.]]], dtype=float32)>"
      ]
     },
     "execution_count": 68,
     "metadata": {},
     "output_type": "execute_result"
    }
   ],
   "source": []
  },
  {
   "cell_type": "code",
   "execution_count": 65,
   "metadata": {},
   "outputs": [
    {
     "ename": "InvalidArgumentError",
     "evalue": "Value for attr 'TI' of float is not in the list of allowed values: uint8, int32, int64\n\t; NodeDef: {{node OneHot}}; Op<name=OneHot; signature=indices:TI, depth:int32, on_value:T, off_value:T -> output:T; attr=axis:int,default=-1; attr=T:type; attr=TI:type,default=DT_INT64,allowed=[DT_UINT8, DT_INT32, DT_INT64]> [Op:OneHot]",
     "output_type": "error",
     "traceback": [
      "\u001b[1;31m---------------------------------------------------------------------------\u001b[0m",
      "\u001b[1;31mInvalidArgumentError\u001b[0m                      Traceback (most recent call last)",
      "Cell \u001b[1;32mIn [65], line 1\u001b[0m\n\u001b[1;32m----> 1\u001b[0m tf\u001b[39m.\u001b[39;49mone_hot(aot_label, \u001b[39m2\u001b[39;49m)\n",
      "File \u001b[1;32mc:\\Users\\KaAI\\anaconda3\\envs\\etc\\lib\\site-packages\\tensorflow\\python\\util\\traceback_utils.py:153\u001b[0m, in \u001b[0;36mfilter_traceback.<locals>.error_handler\u001b[1;34m(*args, **kwargs)\u001b[0m\n\u001b[0;32m    151\u001b[0m \u001b[39mexcept\u001b[39;00m \u001b[39mException\u001b[39;00m \u001b[39mas\u001b[39;00m e:\n\u001b[0;32m    152\u001b[0m   filtered_tb \u001b[39m=\u001b[39m _process_traceback_frames(e\u001b[39m.\u001b[39m__traceback__)\n\u001b[1;32m--> 153\u001b[0m   \u001b[39mraise\u001b[39;00m e\u001b[39m.\u001b[39mwith_traceback(filtered_tb) \u001b[39mfrom\u001b[39;00m \u001b[39mNone\u001b[39m\n\u001b[0;32m    154\u001b[0m \u001b[39mfinally\u001b[39;00m:\n\u001b[0;32m    155\u001b[0m   \u001b[39mdel\u001b[39;00m filtered_tb\n",
      "File \u001b[1;32mc:\\Users\\KaAI\\anaconda3\\envs\\etc\\lib\\site-packages\\tensorflow\\python\\framework\\ops.py:7209\u001b[0m, in \u001b[0;36mraise_from_not_ok_status\u001b[1;34m(e, name)\u001b[0m\n\u001b[0;32m   7207\u001b[0m \u001b[39mdef\u001b[39;00m \u001b[39mraise_from_not_ok_status\u001b[39m(e, name):\n\u001b[0;32m   7208\u001b[0m   e\u001b[39m.\u001b[39mmessage \u001b[39m+\u001b[39m\u001b[39m=\u001b[39m (\u001b[39m\"\u001b[39m\u001b[39m name: \u001b[39m\u001b[39m\"\u001b[39m \u001b[39m+\u001b[39m name \u001b[39mif\u001b[39;00m name \u001b[39mis\u001b[39;00m \u001b[39mnot\u001b[39;00m \u001b[39mNone\u001b[39;00m \u001b[39melse\u001b[39;00m \u001b[39m\"\u001b[39m\u001b[39m\"\u001b[39m)\n\u001b[1;32m-> 7209\u001b[0m   \u001b[39mraise\u001b[39;00m core\u001b[39m.\u001b[39m_status_to_exception(e) \u001b[39mfrom\u001b[39;00m \u001b[39mNone\u001b[39m\n",
      "\u001b[1;31mInvalidArgumentError\u001b[0m: Value for attr 'TI' of float is not in the list of allowed values: uint8, int32, int64\n\t; NodeDef: {{node OneHot}}; Op<name=OneHot; signature=indices:TI, depth:int32, on_value:T, off_value:T -> output:T; attr=axis:int,default=-1; attr=T:type; attr=TI:type,default=DT_INT64,allowed=[DT_UINT8, DT_INT32, DT_INT64]> [Op:OneHot]"
     ]
    }
   ],
   "source": [
    "tf.one_hot(aot_label.numpy()[0].argmax(), 2)"
   ]
  },
  {
   "cell_type": "code",
   "execution_count": 59,
   "metadata": {},
   "outputs": [
    {
     "name": "stdout",
     "output_type": "stream",
     "text": [
      "0\n"
     ]
    }
   ],
   "source": [
    "print(temp[1].argmax())"
   ]
  },
  {
   "cell_type": "code",
   "execution_count": 51,
   "metadata": {},
   "outputs": [
    {
     "data": {
      "image/png": "[encoded data removed]",
      "text/plain": [
       "<Figure size 640x480 with 2 Axes>"
      ]
     },
     "metadata": {},
     "output_type": "display_data"
    }
   ],
   "source": [
    "check(mp_label.numpy())"
   ]
  },
  {
   "cell_type": "code",
   "execution_count": 52,
   "metadata": {},
   "outputs": [
    {
     "data": {
      "image/png": "[encoded data removed]",
      "text/plain": [
       "<Figure size 640x480 with 2 Axes>"
      ]
     },
     "metadata": {},
     "output_type": "display_data"
    }
   ],
   "source": [
    "check(mp_out.numpy())"
   ]
  },
  {
   "cell_type": "code",
   "execution_count": 53,
   "metadata": {},
   "outputs": [],
   "source": [
    "import matplotlib.pyplot as plt\n",
    "import flow_vis\n",
    "\n",
    "def check(array):\n",
    "    a = []\n",
    "    b = []\n",
    "    for i in range(5):\n",
    "        a.append(array[i,:,:,:3])\n",
    "        b.append(flow_vis.flow_to_color(array[i,:,:,3:]))\n",
    "        #flow_color = flow_vis.flow_to_color(concated[0,:,:,3:])\n",
    "\n",
    "    for i in range(5):\n",
    "        plt.subplot(2,5,i+1)\n",
    "        plt.imshow(a[i])\n",
    "        plt.title(i+1)\n",
    "        plt.subplot(2,5,5+i+1)\n",
    "        plt.imshow(b[i])\n",
    "        plt.title(i+1)"
   ]
  },
  {
   "cell_type": "code",
   "execution_count": 74,
   "metadata": {},
   "outputs": [],
   "source": [
    "import matplotlib.pyplot as plt\n",
    "import flow_vis\n",
    "\n",
    "def check(array):\n",
    "    a = array[2,:,:,:3]\n",
    "    b = array[2,:,:,3:]\n",
    "    #b = []\n",
    "    #for i in range(5):\n",
    "    #    a.append(array[i,:,:,:3])\n",
    "    #    b.append(flow_vis.flow_to_color(array[i,:,:,3:]))\n",
    "    #    #flow_color = flow_vis.flow_to_color(concated[0,:,:,3:])\n",
    "    \n",
    "    flow_color = flow_vis.flow_to_color(b)\n",
    "\n",
    "    plt.subplot(1,2,1)\n",
    "    plt.imshow(a)\n",
    "\n",
    "    plt.subplot(1,2,2)\n",
    "    plt.imshow(flow_color)\n",
    "\n",
    "\n",
    "    #for i in range(5):\n",
    "    #    plt.subplot(2,5,i+1)\n",
    "    #    plt.imshow(a[i])\n",
    "    #    plt.title(i+1)\n",
    "    #    plt.subplot(2,5,5+i+1)\n",
    "    #    plt.imshow(b[i])\n",
    "    #    plt.title(i+1)"
   ]
  },
  {
   "cell_type": "code",
   "execution_count": 75,
   "metadata": {},
   "outputs": [],
   "source": [
    "def check_input(array):\n",
    "    a = array[2,2,:,:,:3]\n",
    "    b = array[2,2,:,:,3:]\n",
    "    #b = []\n",
    "    #for i in range(5):\n",
    "    #    a.append(array[i,:,:,:3])\n",
    "    #    b.append(flow_vis.flow_to_color(array[i,:,:,3:]))\n",
    "    #    #flow_color = flow_vis.flow_to_color(concated[0,:,:,3:])\n",
    "    \n",
    "    flow_color = flow_vis.flow_to_color(b)\n",
    "\n",
    "    plt.subplot(1,2,1)\n",
    "    plt.imshow(a)\n",
    "\n",
    "    plt.subplot(1,2,2)\n",
    "    plt.imshow(flow_color)"
   ]
  },
  {
   "cell_type": "code",
   "execution_count": 76,
   "metadata": {},
   "outputs": [
    {
     "data": {
      "image/png": "[encoded data removed]",
      "text/plain": [
       "<Figure size 640x480 with 2 Axes>"
      ]
     },
     "metadata": {},
     "output_type": "display_data"
    }
   ],
   "source": [
    "check(mp_out.numpy())"
   ]
  },
  {
   "cell_type": "code",
   "execution_count": 77,
   "metadata": {},
   "outputs": [
    {
     "data": {
      "image/png": "[encoded data removed]",
      "text/plain": [
       "<Figure size 640x480 with 2 Axes>"
      ]
     },
     "metadata": {},
     "output_type": "display_data"
    }
   ],
   "source": [
    "check_input(aot_input.numpy())"
   ]
  },
  {
   "cell_type": "code",
   "execution_count": 48,
   "metadata": {},
   "outputs": [
    {
     "data": {
      "text/plain": [
       "{}"
      ]
     },
     "execution_count": 48,
     "metadata": {},
     "output_type": "execute_result"
    }
   ],
   "source": [
    "logs"
   ]
  },
  {
   "cell_type": "code",
   "execution_count": null,
   "metadata": {},
   "outputs": [],
   "source": [
    "optical = mp_"
   ]
  }
 ],
 "metadata": {
  "kernelspec": {
   "display_name": "etc",
   "language": "python",
   "name": "python3"
  },
  "language_info": {
   "codemirror_mode": {
    "name": "ipython",
    "version": 3
   },
   "file_extension": ".py",
   "mimetype": "text/x-python",
   "name": "python",
   "nbconvert_exporter": "python",
   "pygments_lexer": "ipython3",
   "version": "3.8.13"
  },
  "orig_nbformat": 4,
  "vscode": {
   "interpreter": {
    "hash": "d7eb1680bb147ac94cb4aa4715d7327236eefa05acb6cc510894634fb6dddd6e"
   }
  }
 },
 "nbformat": 4,
 "nbformat_minor": 2
}
